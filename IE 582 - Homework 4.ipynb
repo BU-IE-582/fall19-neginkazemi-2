{
 "cells": [
  {
   "cell_type": "markdown",
   "metadata": {},
   "source": [
    "<font size=\"6\">**IE 582 Statistical Learning for Data Mining - Homework 4**</font>"
   ]
  },
  {
   "cell_type": "markdown",
   "metadata": {},
   "source": [
    "<font size=\"4\">Mine Gazioğlu - Negin Kazemipourleilabadi - Umut Bütün</font>"
   ]
  },
  {
   "cell_type": "markdown",
   "metadata": {},
   "source": [
    "---"
   ]
  },
  {
   "cell_type": "markdown",
   "metadata": {},
   "source": [
    "# Data Preprocessing"
   ]
  },
  {
   "cell_type": "markdown",
   "metadata": {},
   "source": [
    "**Import Libraries**"
   ]
  },
  {
   "cell_type": "code",
   "execution_count": 433,
   "metadata": {},
   "outputs": [],
   "source": [
    "# Importing necessary libraries\n",
    "\n",
    "import pandas as pd # data processing, CSV file I/O (e.g. pd.read_csv)\n",
    "import numpy as np # linear algebra\n",
    "import matplotlib.pyplot as plt # visualization\n",
    "import matplotlib.pylab as plb # visualization\n",
    "import seaborn as sns # visualization\n",
    "#####from tqdm import tqdm_notebook as tqdm #to see a progress bar\n",
    "import warnings # ignore deprecation warnings etc.\n",
    "warnings.filterwarnings(\"ignore\")\n",
    "import time # dealing with time data\n",
    "from datetime import datetime, timedelta # dealing with time data\n",
    "import datetime as dt #datetime conversions and manipulations\n",
    "from sklearn.linear_model import LogisticRegression"
   ]
  },
  {
   "cell_type": "markdown",
   "metadata": {},
   "source": [
    "**Load Data**"
   ]
  },
  {
   "cell_type": "code",
   "execution_count": 434,
   "metadata": {},
   "outputs": [],
   "source": [
    "goals = pd.read_csv(\"582\\Project\\goals\\goals.csv\")\n",
    "stats = pd.read_csv(\"582\\Project\\stats\\stats.csv\")\n",
    "matches = pd.read_csv(\"582\\Project\\matches\\matches.csv\")\n",
    "booking = pd.read_csv(\"582\\Project\\\\booking\\\\booking.csv\")\n",
    "bets = pd.read_csv(\"582\\Project\\\\bets\\\\bets.csv\")"
   ]
  },
  {
   "cell_type": "markdown",
   "metadata": {},
   "source": [
    "**Filter English Premier League Games**"
   ]
  },
  {
   "cell_type": "code",
   "execution_count": 435,
   "metadata": {},
   "outputs": [],
   "source": [
    "# Filter English Premier League Games Alone\n",
    "matches = matches[matches[\"league_id\"] == 148]"
   ]
  },
  {
   "cell_type": "markdown",
   "metadata": {},
   "source": [
    "**Convert epoch column in matches dataframe to datetime format**"
   ]
  },
  {
   "cell_type": "code",
   "execution_count": 436,
   "metadata": {},
   "outputs": [],
   "source": [
    "# Convert epoch column to datetime format\n",
    "start = datetime(1970, 1, 1)  # Unix epoch start time\n",
    "matches['datetime'] = matches.epoch.apply(lambda x: start + timedelta(seconds=x))\n",
    "# Drop epoch\n",
    "matches.drop(\"epoch\",axis = 1, inplace = True)\n",
    "\n",
    "# Split datetime column to date and time columns\n",
    "matches['Date'] = matches['datetime'].dt.strftime('%d/%m/%Y')\n",
    "matches['Time'] = matches['datetime'].dt.strftime('%H:%M:%S')"
   ]
  },
  {
   "cell_type": "markdown",
   "metadata": {},
   "source": [
    "**Remove the matches that haven't been played yet**"
   ]
  },
  {
   "cell_type": "code",
   "execution_count": 437,
   "metadata": {},
   "outputs": [],
   "source": [
    "# Where home_score is NA\n",
    "matches = matches[~matches[\"match_hometeam_score\"].isna()]"
   ]
  },
  {
   "cell_type": "markdown",
   "metadata": {},
   "source": [
    "**Rename some columns for convenience**"
   ]
  },
  {
   "cell_type": "code",
   "execution_count": 438,
   "metadata": {},
   "outputs": [],
   "source": [
    "# Rename match_hometeam_score & match_awayteam_score to home_score & awayscore\n",
    "matches.rename(columns = {\"match_hometeam_score\":\"home_score\",\"match_awayteam_score\":\"away_score\"},inplace = True)"
   ]
  },
  {
   "cell_type": "markdown",
   "metadata": {},
   "source": [
    "---"
   ]
  },
  {
   "cell_type": "markdown",
   "metadata": {},
   "source": [
    "# Feature Engineering"
   ]
  },
  {
   "cell_type": "markdown",
   "metadata": {},
   "source": [
    "**-** In this part we will create new features from combinations of columns we have<br>\n",
    "**-** We have 2 tasks classification and regression<br>\n",
    "**-** Some features we create will serve better for one of these tasks"
   ]
  },
  {
   "cell_type": "markdown",
   "metadata": {},
   "source": [
    "**Create a Match Result Column that shows whether the game ended in draw, home win or away win**"
   ]
  },
  {
   "cell_type": "markdown",
   "metadata": {},
   "source": [
    "We will not use this column as a feature but rather as a column to help build new features"
   ]
  },
  {
   "cell_type": "code",
   "execution_count": 439,
   "metadata": {},
   "outputs": [
    {
     "data": {
      "text/html": [
       "<div>\n",
       "<style scoped>\n",
       "    .dataframe tbody tr th:only-of-type {\n",
       "        vertical-align: middle;\n",
       "    }\n",
       "\n",
       "    .dataframe tbody tr th {\n",
       "        vertical-align: top;\n",
       "    }\n",
       "\n",
       "    .dataframe thead th {\n",
       "        text-align: right;\n",
       "    }\n",
       "</style>\n",
       "<table border=\"1\" class=\"dataframe\">\n",
       "  <thead>\n",
       "    <tr style=\"text-align: right;\">\n",
       "      <th></th>\n",
       "      <th>match_result</th>\n",
       "    </tr>\n",
       "  </thead>\n",
       "  <tbody>\n",
       "    <tr>\n",
       "      <th>0</th>\n",
       "      <td>Away</td>\n",
       "    </tr>\n",
       "    <tr>\n",
       "      <th>1</th>\n",
       "      <td>Away</td>\n",
       "    </tr>\n",
       "    <tr>\n",
       "      <th>2</th>\n",
       "      <td>Draw</td>\n",
       "    </tr>\n",
       "    <tr>\n",
       "      <th>3</th>\n",
       "      <td>Away</td>\n",
       "    </tr>\n",
       "    <tr>\n",
       "      <th>4</th>\n",
       "      <td>Draw</td>\n",
       "    </tr>\n",
       "  </tbody>\n",
       "</table>\n",
       "</div>"
      ],
      "text/plain": [
       "  match_result\n",
       "0         Away\n",
       "1         Away\n",
       "2         Draw\n",
       "3         Away\n",
       "4         Draw"
      ]
     },
     "metadata": {},
     "output_type": "display_data"
    }
   ],
   "source": [
    "# Create match result columns \n",
    "matches[\"match_result\"] = np.where(matches['home_score'] == \"not_played_h\",\"Not Played\",\n",
    "                          np.where(matches['home_score'] > matches['away_score'],\"Home\", \n",
    "                          np.where(matches['home_score'] == matches['away_score'],\"Draw\",\"Away\")))\n",
    "# reset index\n",
    "matches = matches.reset_index(drop = True)\n",
    "# Show first 5 rows of the column\n",
    "display(matches[[\"match_result\"]].head())"
   ]
  },
  {
   "cell_type": "markdown",
   "metadata": {},
   "source": [
    "<font size=\"3\">**New Features**</font>"
   ]
  },
  {
   "cell_type": "markdown",
   "metadata": {},
   "source": [
    "**1. Average number of goals for home team and away team in last 3 games**"
   ]
  },
  {
   "cell_type": "markdown",
   "metadata": {},
   "source": [
    "Take the average of number of goals scored by home team and away team consecutively to yield 2 new columns as features"
   ]
  },
  {
   "cell_type": "code",
   "execution_count": 440,
   "metadata": {},
   "outputs": [],
   "source": [
    "# Average number of goals for home team in last 3 games\n",
    "matches[\"matches_3_average_home\"] =  matches.groupby(\"match_hometeam_id\")[\"home_score\"].rolling(3,min_periods = 0).mean().reset_index(level=0, drop=True)\n",
    "# Average number of goals for away team in last 3 games\n",
    "matches[\"matches_3_average_away\"] =  matches.groupby(\"match_awayteam_id\")[\"away_score\"].rolling(3,min_periods = 0).mean().reset_index(level=0, drop=True)"
   ]
  },
  {
   "cell_type": "markdown",
   "metadata": {},
   "source": [
    "**2. Team average goals in last 5 games**"
   ]
  },
  {
   "cell_type": "markdown",
   "metadata": {},
   "source": [
    "**-** Find average goals for the last 5 games for each team <br>\n",
    "**-** The difference from above feature is team average scores for last 5 games are considered disregarding that the team played as home team or away team <br>\n",
    "**-** Yields 2 columns for away and home teams as well"
   ]
  },
  {
   "cell_type": "code",
   "execution_count": 441,
   "metadata": {},
   "outputs": [],
   "source": [
    "# Find average goals for the last 5 games for each team\n",
    "\n",
    "# Filter matches dataframe to extract the necessary columns\n",
    "team_average_goals_5_games = matches[[\"match_id\",\"datetime\",\"match_hometeam_id\",\"home_score\",\"match_awayteam_id\",\"away_score\"]]\n",
    "\n",
    "# Melt this dataframe 2 times first to melt scores and second to melt team ids\n",
    "# Melt scores\n",
    "team_average_goals_5_games_melted_score = pd.melt(team_average_goals_5_games, id_vars=['datetime',\"match_id\",\"match_hometeam_id\",\"match_awayteam_id\"], value_vars = [\"home_score\",\"away_score\"],var_name='Var1', value_name='Var1_value')\n",
    "# Melt ids\n",
    "team_average_goals_5_games_melted__teamid = pd.melt(team_average_goals_5_games, id_vars=['datetime',\"match_id\",\"home_score\",\"away_score\"], value_vars = [\"match_hometeam_id\",\"match_awayteam_id\"],var_name='Var2', value_name='Var2_value')\n",
    "\n",
    "# Merge the dataframes displayed above\n",
    "melted = team_average_goals_5_games_melted_score.merge(team_average_goals_5_games_melted__teamid, on =\"match_id\")\n",
    "melted = melted[[\"datetime_x\",\"match_id\",\"Var1\",\"Var1_value\",\"Var2\",\"Var2_value\"]]\n",
    "\n",
    "# Drop values that are duplicated but not needed\n",
    "melted =(melted[~((melted[\"Var2\"] == \"match_hometeam_id\") & (melted[\"Var1\"] == \"away_score\"))])\n",
    "melted =(melted[~((melted[\"Var2\"] == \"match_awayteam_id\") & (melted[\"Var1\"] == \"home_score\"))])\n",
    "\n",
    "# Sort values by datetime and team ids\n",
    "melted = melted.sort_values([\"Var2_value\",\"datetime_x\"])\n",
    "\n",
    "# Perform rolling average \n",
    "melted[\"total_avg_goals\"] =  melted.groupby(\"Var2_value\")[\"Var1_value\"].rolling(5,min_periods = 1).mean().reset_index(level=0, drop=True)\n",
    "# Pivot the values\n",
    "melted_pivot = melted.pivot(columns = \"Var1\",values=\"total_avg_goals\" , index = \"match_id\")\n",
    "melted_pivot.columns = [\"team_avg_5_away_score\",\"team_avg_5_away_home_score\"]\n",
    "\n",
    "matches = matches.merge(melted_pivot, on = \"match_id\")"
   ]
  },
  {
   "cell_type": "markdown",
   "metadata": {},
   "source": [
    "**3. Total points in the last 3 games**"
   ]
  },
  {
   "cell_type": "markdown",
   "metadata": {},
   "source": [
    "**-** For a match home team gets 3 points if wins, 1 points if draw, 0 points if loses and same goes for away team<br>\n",
    "**-** This feature does not consider the number of goals but considers the outcome\n",
    "**-** Yields 2 columns for home and away teams"
   ]
  },
  {
   "cell_type": "code",
   "execution_count": 442,
   "metadata": {},
   "outputs": [],
   "source": [
    "# Create a column showing points for teams(win:3,loss:0,draw:1)\n",
    "matches[\"home_points\"] = matches[\"match_result\"].apply(lambda x: 3 if x == \"Home\" else (1 if x== \"Draw\" else 0))\n",
    "matches[\"away_points\"] = matches[\"match_result\"].apply(lambda x: 3 if x == \"Away\" else (1 if x== \"Draw\" else 0))\n",
    "\n",
    "# Filter matches dataframe to extract the necessary columns\n",
    "team_average_points_3_games = matches[[\"match_id\",\"datetime\",\"match_hometeam_id\",\"match_awayteam_id\",\"home_points\",\"away_points\"]]\n",
    "\n",
    "# Melt this dataframe 2 times first 2 melt scores and second to melt team ids\n",
    "# Melt scores\n",
    "team_average_points_3_games_points = pd.melt(team_average_points_3_games, id_vars=['datetime',\"match_id\",\"match_hometeam_id\",\"match_awayteam_id\"], value_vars = [\"home_points\",\"away_points\"],var_name='Var1', value_name='Var1_value')\n",
    "# Melt ids\n",
    "team_average_points_3_games_ids = pd.melt(team_average_points_3_games, id_vars=['datetime',\"match_id\",\"home_points\",\"away_points\"], value_vars = [\"match_hometeam_id\",\"match_awayteam_id\"],var_name='Var2', value_name='Var2_value')\n",
    "\n",
    "# Merge the dataframes displayed above\n",
    "melted = team_average_points_3_games_points.merge(team_average_points_3_games_ids, on =\"match_id\")\n",
    "melted = melted[[\"datetime_x\",\"match_id\",\"Var1\",\"Var1_value\",\"Var2\",\"Var2_value\"]]\n",
    "\n",
    "# Drop values that are duplicated but not needed\n",
    "melted =(melted[~((melted[\"Var2\"] == \"match_hometeam_id\") & (melted[\"Var1\"] == \"away_points\"))])\n",
    "melted =(melted[~((melted[\"Var2\"] == \"match_awayteam_id\") & (melted[\"Var1\"] == \"home_points\"))])\n",
    "# Sort values by datetime and team ids\n",
    "melted = melted.sort_values([\"Var2_value\",\"datetime_x\"])\n",
    "\n",
    "# Perform rolling average \n",
    "melted[\"total_avg_points\"] =  melted.groupby(\"Var2_value\")[\"Var1_value\"].rolling(3,min_periods = 1).mean().reset_index(level=0, drop=True)\n",
    "# Pivot the values\n",
    "melted_pivot = melted.pivot(columns = \"Var1\",values=\"total_avg_points\" , index = \"match_id\")\n",
    "melted_pivot.columns = [\"team_avg_3_away_points\",\"team_avg_3_away_home_points\"]\n",
    "\n",
    "matches = matches.merge(melted_pivot, on = \"match_id\")"
   ]
  },
  {
   "cell_type": "markdown",
   "metadata": {},
   "source": [
    "**4. Total Points in a season for a team**"
   ]
  },
  {
   "cell_type": "markdown",
   "metadata": {},
   "source": [
    "**-** Calculates based on English Premier League Seasons<br>\n",
    "**-** Currently the data includes 2 seasons not containing all the games from both seasons<br>\n",
    "**-** We will name these 2 seasons last season and this season<br>\n",
    "**-** This will demonstrate the final points at the end of each season for each team.<br>\n",
    "\n",
    "_Note that points may be more than English Premier League points in reality as the matches data \n",
    "includes additional matches such as Football League Cup as if it was Premier League._"
   ]
  },
  {
   "cell_type": "markdown",
   "metadata": {},
   "source": [
    "Seperate Last Season's and This Season's Games"
   ]
  },
  {
   "cell_type": "code",
   "execution_count": 443,
   "metadata": {},
   "outputs": [],
   "source": [
    "# Last season end date\n",
    "last_season_end = \"2019-08-08 23:00:00\"\n",
    "# Split current matches dataframe into last season and this season\n",
    "# Last Season\n",
    "last_season_df = matches[matches[\"datetime\"] < last_season_end]\n",
    "# This season\n",
    "this_season_df =  matches[matches[\"datetime\"] > last_season_end]"
   ]
  },
  {
   "cell_type": "markdown",
   "metadata": {},
   "source": [
    "Point Calculation for Last Season"
   ]
  },
  {
   "cell_type": "code",
   "execution_count": 444,
   "metadata": {},
   "outputs": [],
   "source": [
    "# Calculate last seasons's point for home and away teams(If win 3 points lose 0 points and draw 1 points)\n",
    "# Home\n",
    "last_season_df[\"Home_Point\"] = last_season_df.match_result.apply(lambda x: 3 if x == \"Home\" else (1 if x== \"Draw\" else 0))\n",
    "# Away\n",
    "last_season_df[\"Away_Point\"] = last_season_df.match_result.apply(lambda x: 3 if x == \"Away\" else (1 if x== \"Draw\" else 0))\n",
    "# Create a dictionary that keeps point for team on home teams\n",
    "home_dict = last_season_df.groupby(\"match_hometeam_id\").sum()[[\"Home_Point\"]].to_dict()\n",
    "home_dict_last = home_dict[\"Home_Point\"]\n",
    "# Create a dictionary that keeps point for team on away teams\n",
    "away_dict = last_season_df.groupby(\"match_awayteam_id\").sum()[[\"Away_Point\"]].to_dict()\n",
    "away_dict_last = away_dict[\"Away_Point\"]\n",
    "\n",
    "# Then sum these dictionaries by their key(keys are id's of teams)\n",
    "# This way we summed up home and away team points if the ids are the same\n",
    "from collections import Counter \n",
    "total_dict_last = Counter(home_dict_last) + Counter(away_dict_last) "
   ]
  },
  {
   "cell_type": "markdown",
   "metadata": {},
   "source": [
    "Point Calculation for This Season"
   ]
  },
  {
   "cell_type": "code",
   "execution_count": 445,
   "metadata": {},
   "outputs": [],
   "source": [
    "# Calculate this seasons's point for home and away teams(If win 3 points lose 0 points and draw 1 points)\n",
    "# Home\n",
    "this_season_df[\"Home_Point\"] = this_season_df.match_result.apply(lambda x: 3 if x == \"Home\" else (1 if x== \"Draw\" else 0))\n",
    "# Away\n",
    "this_season_df[\"Away_Point\"] = this_season_df.match_result.apply(lambda x: 3 if x == \"Away\" else (1 if x== \"Draw\" else 0))\n",
    "# Create a dictionary that keeps point for team on home teams\n",
    "home_dict = this_season_df.groupby(\"match_hometeam_id\").sum()[[\"Home_Point\"]].to_dict()\n",
    "home_dict_this = home_dict[\"Home_Point\"]\n",
    "# Create a dictionary that keeps point for team on away teams\n",
    "away_dict = this_season_df.groupby(\"match_awayteam_id\").sum()[[\"Away_Point\"]].to_dict()\n",
    "away_dict_this = away_dict[\"Away_Point\"]\n",
    "# Then sum these dictionaries by their key(keys are id's of teams)\n",
    "# This way we summed up home and away team points if the ids are the same\n",
    "from collections import Counter \n",
    "total_dict_this = Counter(home_dict_this) + Counter(away_dict_this) "
   ]
  },
  {
   "cell_type": "code",
   "execution_count": 446,
   "metadata": {},
   "outputs": [],
   "source": [
    "# Add old and new season point totals as features\n",
    "matches[\"old_season_points_home\"] = matches.match_hometeam_id.map(total_dict_last)\n",
    "matches[\"old_season_points_away\"] = matches.match_awayteam_id.map(total_dict_last)\n",
    "\n",
    "matches[\"this_season_points_home\"] = matches.match_hometeam_id.map(total_dict_this)\n",
    "matches[\"this_season_points_away\"] = matches.match_awayteam_id.map(total_dict_this)"
   ]
  },
  {
   "cell_type": "markdown",
   "metadata": {},
   "source": [
    "**5. Average number of goals by home and away teams**(Regression)"
   ]
  },
  {
   "cell_type": "markdown",
   "metadata": {},
   "source": [
    "**-** Very similar to the above feature<br>\n",
    "**-** Find average number of goals by each team divided to seasons"
   ]
  },
  {
   "cell_type": "code",
   "execution_count": 447,
   "metadata": {},
   "outputs": [],
   "source": [
    "# Last season end date\n",
    "last_season_end = \"2019-08-08 23:00:00\"\n",
    "# Split current matches dataframe into last season and this season\n",
    "# Last Season\n",
    "last_season_df = matches[matches[\"datetime\"] < last_season_end]\n",
    "# This season\n",
    "this_season_df =  matches[matches[\"datetime\"] > last_season_end]"
   ]
  },
  {
   "cell_type": "code",
   "execution_count": 448,
   "metadata": {},
   "outputs": [],
   "source": [
    "#LAst Season\n",
    "a = pd.melt(last_season_df, id_vars = ['datetime',\"match_id\",\"match_hometeam_id\",\"match_awayteam_id\"], value_vars = [\"home_score\",\"away_score\"], var_name = \"Var1\",value_name='Var1_value')\n",
    "b = pd.melt(last_season_df, id_vars=['datetime',\"match_id\",\"home_score\",\"away_score\"], value_vars = [\"match_hometeam_id\",\"match_awayteam_id\"],var_name='Var2', value_name='Var2_value')\n",
    "last_season = a.merge(b,on = \"match_id\")\n",
    "last_season = last_season[[\"datetime_x\",\"match_id\",\"Var1\",\"Var1_value\",\"Var2\",\"Var2_value\"]]\n",
    "\n",
    "last_season.sort_values([\"datetime_x\",\"Var2_value\"])\n",
    "\n",
    "# Drop values that are duplicated but not needed\n",
    "last_season =(last_season[~((last_season[\"Var2\"] == \"match_hometeam_id\") & (last_season[\"Var1\"] == \"away_score\"))])\n",
    "last_season =(last_season[~((last_season[\"Var2\"] == \"match_awayteam_id\") & (last_season[\"Var1\"] == \"home_score\"))])\n",
    "\n",
    "\n",
    "goals_last_season_dict = last_season.groupby(\"Var2_value\")[\"Var1_value\"].mean().to_dict()\n"
   ]
  },
  {
   "cell_type": "code",
   "execution_count": 449,
   "metadata": {},
   "outputs": [],
   "source": [
    "# This Season\n",
    "a = pd.melt(this_season_df, id_vars = ['datetime',\"match_id\",\"match_hometeam_id\",\"match_awayteam_id\"], value_vars = [\"home_score\",\"away_score\"], var_name = \"Var1\",value_name='Var1_value')\n",
    "b = pd.melt(this_season_df, id_vars=['datetime',\"match_id\",\"home_score\",\"away_score\"], value_vars = [\"match_hometeam_id\",\"match_awayteam_id\"],var_name='Var2', value_name='Var2_value')\n",
    "this_season = a.merge(b,on = \"match_id\")\n",
    "this_season = this_season[[\"datetime_x\",\"match_id\",\"Var1\",\"Var1_value\",\"Var2\",\"Var2_value\"]]\n",
    "\n",
    "this_season.sort_values([\"datetime_x\",\"Var2_value\"])\n",
    "\n",
    "# Drop values that are duplicated but not needed\n",
    "this_season =(this_season[~((this_season[\"Var2\"] == \"match_hometeam_id\") & (this_season[\"Var1\"] == \"away_score\"))])\n",
    "this_season =(this_season[~((this_season[\"Var2\"] == \"match_awayteam_id\") & (this_season[\"Var1\"] == \"home_score\"))])\n",
    "\n",
    "\n",
    "goals_this_season_dict = this_season.groupby(\"Var2_value\")[\"Var1_value\"].mean().to_dict()"
   ]
  },
  {
   "cell_type": "code",
   "execution_count": 450,
   "metadata": {},
   "outputs": [],
   "source": [
    "matches[\"last_season_goals_home_total\"] = matches[\"match_hometeam_id\"].map(goals_last_season_dict)\n",
    "matches[\"last_season_goals_away_total\"] = matches[\"match_awayteam_id\"].map(goals_last_season_dict)\n",
    "matches[\"this_season_goals_home_total\"] = matches[\"match_hometeam_id\"].map(goals_this_season_dict)\n",
    "matches[\"this_season_goals_away_total\"] = matches[\"match_awayteam_id\"].map(goals_this_season_dict)"
   ]
  },
  {
   "cell_type": "markdown",
   "metadata": {},
   "source": [
    "**6. Average number of goals conceded by home and away teams**(Regression)"
   ]
  },
  {
   "cell_type": "markdown",
   "metadata": {},
   "source": [
    "**-** Find goals missed by home and away teams<br>\n",
    "**-** For example for home team take away team's goal and vice versa"
   ]
  },
  {
   "cell_type": "code",
   "execution_count": 451,
   "metadata": {},
   "outputs": [],
   "source": [
    "# Last season end date\n",
    "last_season_end = \"2019-08-08 23:00:00\"\n",
    "# Split current matches dataframe into last season and this season\n",
    "# Last Season\n",
    "last_season_df = matches[matches[\"datetime\"] < last_season_end]\n",
    "# This season\n",
    "this_season_df =  matches[matches[\"datetime\"] > last_season_end]"
   ]
  },
  {
   "cell_type": "code",
   "execution_count": 452,
   "metadata": {},
   "outputs": [],
   "source": [
    "#LAst Season\n",
    "a = pd.melt(last_season_df, id_vars = ['datetime',\"match_id\",\"match_hometeam_id\",\"match_awayteam_id\"], value_vars = [\"home_score\",\"away_score\"], var_name = \"Var1\",value_name='Var1_value')\n",
    "b = pd.melt(last_season_df, id_vars=['datetime',\"match_id\",\"home_score\",\"away_score\"], value_vars = [\"match_hometeam_id\",\"match_awayteam_id\"],var_name='Var2', value_name='Var2_value')\n",
    "last_season = a.merge(b,on = \"match_id\")\n",
    "last_season = last_season[[\"datetime_x\",\"match_id\",\"Var1\",\"Var1_value\",\"Var2\",\"Var2_value\"]]\n",
    "\n",
    "last_season.sort_values([\"datetime_x\",\"Var2_value\"])\n",
    "\n",
    "# Drop values that are duplicated but not needed\n",
    "last_season =(last_season[~((last_season[\"Var2\"] == \"match_hometeam_id\") & (last_season[\"Var1\"] == \"home_score\"))])\n",
    "last_season =(last_season[~((last_season[\"Var2\"] == \"match_awayteam_id\") & (last_season[\"Var1\"] == \"away_score\"))])\n",
    "\n",
    "\n",
    "goals_last_season_dict_conceded = last_season.groupby(\"Var2_value\")[\"Var1_value\"].mean().to_dict()\n",
    "\n",
    "#This Season\n",
    "a = pd.melt(this_season_df, id_vars = ['datetime',\"match_id\",\"match_hometeam_id\",\"match_awayteam_id\"], value_vars = [\"home_score\",\"away_score\"], var_name = \"Var1\",value_name='Var1_value')\n",
    "b = pd.melt(this_season_df, id_vars=['datetime',\"match_id\",\"home_score\",\"away_score\"], value_vars = [\"match_hometeam_id\",\"match_awayteam_id\"],var_name='Var2', value_name='Var2_value')\n",
    "this_season = a.merge(b,on = \"match_id\")\n",
    "this_season = this_season[[\"datetime_x\",\"match_id\",\"Var1\",\"Var1_value\",\"Var2\",\"Var2_value\"]]\n",
    "\n",
    "this_season.sort_values([\"datetime_x\",\"Var2_value\"])\n",
    "\n",
    "# Drop values that are duplicated but not needed\n",
    "this_season =(this_season[~((this_season[\"Var2\"] == \"match_hometeam_id\") & (this_season[\"Var1\"] == \"home_score\"))])\n",
    "this_season =(this_season[~((this_season[\"Var2\"] == \"match_awayteam_id\") & (this_season[\"Var1\"] == \"away_score\"))])\n",
    "\n",
    "\n",
    "goals_this_season_dict_conceded = this_season.groupby(\"Var2_value\")[\"Var1_value\"].mean().to_dict()"
   ]
  },
  {
   "cell_type": "code",
   "execution_count": 453,
   "metadata": {},
   "outputs": [],
   "source": [
    "matches[\"last_season_goals_home_concede\"] = matches[\"match_hometeam_id\"].map(goals_last_season_dict_conceded)\n",
    "matches[\"last_season_goals_away_concede\"] = matches[\"match_awayteam_id\"].map(goals_last_season_dict_conceded)\n",
    "matches[\"this_season_goals_home_concede\"] = matches[\"match_hometeam_id\"].map(goals_this_season_dict_conceded)\n",
    "matches[\"this_season_goals_away_concede\"] = matches[\"match_awayteam_id\"].map(goals_this_season_dict_conceded)"
   ]
  },
  {
   "cell_type": "markdown",
   "metadata": {},
   "source": [
    "# Tasks"
   ]
  },
  {
   "cell_type": "markdown",
   "metadata": {},
   "source": [
    "## 1.Classification - <span style=\"color:gray\">Predict if total goals in a match will be larger than 2.5</span>"
   ]
  },
  {
   "cell_type": "markdown",
   "metadata": {},
   "source": [
    "**Prepare a target column that shows if total number of goals are bigger than 2.5 or not**"
   ]
  },
  {
   "cell_type": "code",
   "execution_count": 185,
   "metadata": {},
   "outputs": [],
   "source": [
    "# Prepare a target column that shows if total number of goals are bigger than 2.5 or not\n",
    "# First create a total goals column\n",
    "matches[\"total_goals\"] = matches[\"home_score\"] + matches[\"away_score\"]\n",
    "# Create column that shows if match total score is bigger than 2.5 or not\n",
    "matches[\"more_than_2.5\"] = np.where(matches[\"total_goals\"]>2.5,\"1\",\"0\")"
   ]
  },
  {
   "cell_type": "markdown",
   "metadata": {},
   "source": [
    "## Algorithms"
   ]
  },
  {
   "cell_type": "code",
   "execution_count": 317,
   "metadata": {},
   "outputs": [],
   "source": [
    "# import necessary packages\n",
    "from sklearn.linear_model import LogisticRegressionCV\n",
    "from sklearn.linear_model import LogisticRegression\n",
    "from sklearn.model_selection import StratifiedKFold\n",
    "from sklearn.metrics import roc_auc_score,accuracy_score,confusion_matrix\n",
    "from sklearn.model_selection import KFold\n",
    "from sklearn.model_selection import cross_val_score\n",
    "from sklearn.model_selection import RandomizedSearchCV, GridSearchCV\n",
    "from sklearn import linear_model\n",
    "from sklearn.model_selection import train_test_split\n",
    "from sklearn.tree import DecisionTreeClassifier\n",
    "from sklearn.preprocessing import StandardScaler\n",
    "from sklearn.ensemble import RandomForestClassifier\n",
    "from sklearn.ensemble import GradientBoostingClassifier"
   ]
  },
  {
   "cell_type": "markdown",
   "metadata": {},
   "source": [
    "**Specify X(features) and y(target) values**"
   ]
  },
  {
   "cell_type": "code",
   "execution_count": 169,
   "metadata": {},
   "outputs": [],
   "source": [
    "matches_id = matches[\"match_id\"]\n",
    "X = matches.drop(['match_id','match_status',\n",
    "       'match_live', 'match_hometeam_name', 'match_awayteam_name',\n",
    "       'home_score', 'away_score', 'match_hometeam_halftime_score',\n",
    "       'match_awayteam_halftime_score', 'match_hometeam_extra_score',\n",
    "       'match_awayteam_extra_score', 'match_hometeam_penalty_score',\n",
    "       'match_awayteam_penalty_score', 'league_id', 'datetime', 'Date', 'Time',\n",
    "       'match_result',\"more_than_2.5\",\"total_goals\"], axis = 1)\n",
    "\n",
    "y = matches[\"more_than_2.5\"].astype('category')"
   ]
  },
  {
   "cell_type": "markdown",
   "metadata": {},
   "source": [
    "**Check for class imbalance in target column**"
   ]
  },
  {
   "cell_type": "code",
   "execution_count": 281,
   "metadata": {
    "scrolled": false
   },
   "outputs": [
    {
     "data": {
      "image/png": "[encoded data removed]",
      "text/plain": [
       "<Figure size 432x288 with 1 Axes>"
      ]
     },
     "metadata": {
      "needs_background": "light"
     },
     "output_type": "display_data"
    }
   ],
   "source": [
    "# Check for class imbalance\n",
    "y.value_counts().sort_values().plot(kind = 'bar');"
   ]
  },
  {
   "cell_type": "markdown",
   "metadata": {},
   "source": [
    "No class imbalance observed"
   ]
  },
  {
   "cell_type": "markdown",
   "metadata": {},
   "source": [
    "## Logistic Regression with Lasso Penalty"
   ]
  },
  {
   "cell_type": "markdown",
   "metadata": {},
   "source": [
    "**GridSearchCV for tuning Parameters**"
   ]
  },
  {
   "cell_type": "code",
   "execution_count": 270,
   "metadata": {},
   "outputs": [
    {
     "name": "stdout",
     "output_type": "stream",
     "text": [
      "Fitting 10 folds for each of 3 candidates, totalling 30 fits\n"
     ]
    },
    {
     "name": "stderr",
     "output_type": "stream",
     "text": [
      "[Parallel(n_jobs=1)]: Using backend SequentialBackend with 1 concurrent workers.\n",
      "[Parallel(n_jobs=1)]: Done  30 out of  30 | elapsed:  1.4min finished\n"
     ]
    },
    {
     "name": "stdout",
     "output_type": "stream",
     "text": [
      "{'C': 1.1} 0.7519747235387045\n"
     ]
    },
    {
     "data": {
      "text/plain": [
       "LogisticRegression(C=1.1, class_weight=None, dual=False, fit_intercept=True,\n",
       "                   intercept_scaling=1.0, l1_ratio=None, max_iter=10000,\n",
       "                   multi_class='auto', n_jobs=None, penalty='l1',\n",
       "                   random_state=42, solver='liblinear', tol=0.0001, verbose=0,\n",
       "                   warm_start=False)"
      ]
     },
     "execution_count": 270,
     "metadata": {},
     "output_type": "execute_result"
    }
   ],
   "source": [
    "from sklearn.model_selection import RandomizedSearchCV, GridSearchCV\n",
    "skf = StratifiedKFold(n_splits=10, random_state=42, shuffle=False)\n",
    "\n",
    "param_testing = {'C': [0.01,0.1,1.10]}\n",
    "\n",
    "gr = GridSearchCV(LogisticRegression(penalty='l1', \n",
    "                                     solver='liblinear',  \n",
    "                                     tol=0.0001, \n",
    "                                     max_iter=10000, \n",
    "                                     intercept_scaling=1.0, \n",
    "                                     multi_class='auto', \n",
    "                                     random_state=42),\n",
    "                  param_testing,\n",
    "                  verbose = 1,\n",
    "                  scoring='accuracy',\n",
    "                  cv = skf)\n",
    "\n",
    "    \n",
    "gr.fit(X_train,y_train)\n",
    "print(gr.best_params_, gr.best_score_)\n",
    "best_estimator = gr.best_estimator_\n",
    "best_estimator"
   ]
  },
  {
   "cell_type": "markdown",
   "metadata": {},
   "source": [
    "**Run the Model**"
   ]
  },
  {
   "cell_type": "code",
   "execution_count": 274,
   "metadata": {
    "scrolled": true
   },
   "outputs": [
    {
     "name": "stdout",
     "output_type": "stream",
     "text": [
      "Fold: 1\n",
      "Accuracy Score: 0.8169014084507042\n",
      "Fold: 2\n",
      "Accuracy Score: 0.7887323943661971\n",
      "Fold: 3\n",
      "Accuracy Score: 0.7323943661971831\n",
      "Fold: 4\n",
      "Accuracy Score: 0.704225352112676\n",
      "Fold: 5\n",
      "Accuracy Score: 0.8\n",
      "Fold: 6\n",
      "Accuracy Score: 0.6571428571428571\n",
      "Fold: 7\n",
      "Accuracy Score: 0.7428571428571429\n",
      "Fold: 8\n",
      "Accuracy Score: 0.7857142857142857\n",
      "Fold: 9\n",
      "Accuracy Score: 0.8115942028985508\n",
      "Fold: 10\n",
      "Accuracy Score: 0.7391304347826086\n",
      "Fold: 1\n",
      "Accuracy Score: 0.7559429477020603\n",
      "Fold: 2\n",
      "Accuracy Score: 0.7480190174326465\n",
      "Fold: 3\n",
      "Accuracy Score: 0.7749603803486529\n",
      "Fold: 4\n",
      "Accuracy Score: 0.7638668779714739\n",
      "Fold: 5\n",
      "Accuracy Score: 0.7563291139240507\n",
      "Fold: 6\n",
      "Accuracy Score: 0.7879746835443038\n",
      "Fold: 7\n",
      "Accuracy Score: 0.7642405063291139\n",
      "Fold: 8\n",
      "Accuracy Score: 0.7721518987341772\n",
      "Fold: 9\n",
      "Accuracy Score: 0.7598736176935229\n",
      "Fold: 10\n",
      "Accuracy Score: 0.7693522906793049\n"
     ]
    }
   ],
   "source": [
    "lr = LogisticRegression(C = 1.1,\n",
    "                          penalty='l1', \n",
    "                          solver='liblinear',  \n",
    "                          tol=0.0001, \n",
    "                          max_iter=10000, \n",
    "                          intercept_scaling=1.0, \n",
    "                          multi_class='auto', \n",
    "                          random_state=42)\n",
    "\n",
    "\n",
    "# Test Score\n",
    "final_score = []\n",
    "# Stratified KFold\n",
    "skf = StratifiedKFold(n_splits=10, random_state=42, shuffle=False)\n",
    "for fold, (train_index, test_index) in enumerate(skf.split(X, y)):\n",
    "    print(\"Fold:\" , fold +1)\n",
    "    X_train, X_test = X.iloc[train_index], X.iloc[test_index]\n",
    "    y_train, y_test = y.iloc[train_index], y.iloc[test_index]\n",
    "    lr.fit(X_train,y_train)\n",
    "    predictions = lr.predict(X_test)\n",
    "    final_score.append(accuracy_score(y_test, predictions))\n",
    "    print(\"Accuracy Score:\" ,accuracy_score(y_test, predictions))    \n",
    "    \n",
    "logistic_test = np.mean(final_score)\n",
    "\n",
    "# Train Score\n",
    "final_score_train = []\n",
    "# Stratified KFold\n",
    "skf = StratifiedKFold(n_splits=10, random_state=42, shuffle=False)\n",
    "for fold, (train_index, test_index) in enumerate(skf.split(X, y)):\n",
    "    print(\"Fold:\" , fold +1)\n",
    "    X_train, X_test = X.iloc[train_index], X.iloc[test_index]\n",
    "    y_train, y_test = y.iloc[train_index], y.iloc[test_index]\n",
    "    lr.fit(X_train,y_train)\n",
    "    predictions = lr.predict(X_train)\n",
    "    final_score_train.append(accuracy_score(y_train, predictions))\n",
    "    print(\"Accuracy Score:\" ,accuracy_score(y_train, predictions))\n",
    "    \n",
    "logistic_train = np.mean(final_score_train)"
   ]
  },
  {
   "cell_type": "markdown",
   "metadata": {},
   "source": [
    "**Plot test accuracy vs. train accuracy**"
   ]
  },
  {
   "cell_type": "code",
   "execution_count": 275,
   "metadata": {
    "scrolled": true
   },
   "outputs": [
    {
     "data": {
      "image/png": "[encoded data removed]",
      "text/plain": [
       "<Figure size 432x288 with 1 Axes>"
      ]
     },
     "metadata": {
      "needs_background": "light"
     },
     "output_type": "display_data"
    }
   ],
   "source": [
    "fig, ax = plt.subplots()\n",
    "ax.plot(final_score_train, '-b', label='train')\n",
    "ax.plot(final_score, '--r', label='test')\n",
    "leg = ax.legend();"
   ]
  },
  {
   "cell_type": "markdown",
   "metadata": {},
   "source": [
    "Although our mean train and test error rates are pretty close. Test error has high variance. We have only tuned lambda parameter as requested in the question with GridSearchCV and used a c value of 1.1. The high variance could be due to the noise in our training data.Also, it could be due to need of scaling/normalization in our data. We were able to predict %75 of the classes from test data shown by our mean accuracy score. Mean values of train and test scores are almost the same so we can say no overfitting."
   ]
  },
  {
   "cell_type": "markdown",
   "metadata": {},
   "source": [
    "# Decision Tree"
   ]
  },
  {
   "cell_type": "markdown",
   "metadata": {},
   "source": [
    "**GridSearchCV for tuning Parameters**"
   ]
  },
  {
   "cell_type": "code",
   "execution_count": 286,
   "metadata": {},
   "outputs": [
    {
     "name": "stdout",
     "output_type": "stream",
     "text": [
      "Fitting 10 folds for each of 99 candidates, totalling 990 fits\n"
     ]
    },
    {
     "name": "stderr",
     "output_type": "stream",
     "text": [
      "[Parallel(n_jobs=1)]: Using backend SequentialBackend with 1 concurrent workers.\n"
     ]
    },
    {
     "name": "stdout",
     "output_type": "stream",
     "text": [
      "{'min_samples_leaf': 26} 0.7124802527646129\n"
     ]
    },
    {
     "name": "stderr",
     "output_type": "stream",
     "text": [
      "[Parallel(n_jobs=1)]: Done 990 out of 990 | elapsed:   10.5s finished\n"
     ]
    },
    {
     "data": {
      "text/plain": [
       "DecisionTreeClassifier(class_weight=None, criterion='gini', max_depth=4,\n",
       "                       max_features=None, max_leaf_nodes=None,\n",
       "                       min_impurity_decrease=0.0, min_impurity_split=None,\n",
       "                       min_samples_leaf=26, min_samples_split=2,\n",
       "                       min_weight_fraction_leaf=0.0, presort=False,\n",
       "                       random_state=42, splitter='best')"
      ]
     },
     "execution_count": 286,
     "metadata": {},
     "output_type": "execute_result"
    }
   ],
   "source": [
    "from sklearn.model_selection import RandomizedSearchCV, GridSearchCV\n",
    "skf = StratifiedKFold(n_splits=10, random_state=42, shuffle=False)\n",
    "\n",
    "# We will try these parameters seperately because when tried together they do not give the best result\n",
    "param_testing_depth = {'max_depth':np.arange(1,100,1)}  \n",
    "# {'max_depth': 4} 0.7061611374407583\n",
    "param_testing_minsamples = {'min_samples_leaf':np.arange(1,100,1)}  ,\n",
    "# {'min_samples_leaf': 26} 0.7124802527646129\n",
    "\n",
    "gr = GridSearchCV(DecisionTreeClassifier(random_state=42, max_depth=4,min_samples_leaf = 26),\n",
    "                  param_testing_minsamples,\n",
    "                  verbose = 1,\n",
    "                  scoring='accuracy',\n",
    "                  cv = skf)\n",
    "\n",
    "    \n",
    "gr.fit(X_train,y_train)\n",
    "print(gr.best_params_, gr.best_score_)\n",
    "best_estimator = gr.best_estimator_\n",
    "best_estimator"
   ]
  },
  {
   "cell_type": "markdown",
   "metadata": {},
   "source": [
    "**Run the Model**"
   ]
  },
  {
   "cell_type": "code",
   "execution_count": 311,
   "metadata": {
    "scrolled": false
   },
   "outputs": [
    {
     "name": "stdout",
     "output_type": "stream",
     "text": [
      "Fold: 1\n",
      "Accuracy Score: 0.6901408450704225\n",
      "Fold: 2\n",
      "Accuracy Score: 0.7887323943661971\n",
      "Fold: 3\n",
      "Accuracy Score: 0.676056338028169\n",
      "Fold: 4\n",
      "Accuracy Score: 0.7605633802816901\n",
      "Fold: 5\n",
      "Accuracy Score: 0.7285714285714285\n",
      "Fold: 6\n",
      "Accuracy Score: 0.6428571428571429\n",
      "Fold: 7\n",
      "Accuracy Score: 0.6428571428571429\n",
      "Fold: 8\n",
      "Accuracy Score: 0.6428571428571429\n",
      "Fold: 9\n",
      "Accuracy Score: 0.7971014492753623\n",
      "Fold: 10\n",
      "Accuracy Score: 0.7536231884057971\n",
      "Fold: 1\n",
      "Accuracy Score: 0.7274167987321711\n",
      "Fold: 2\n",
      "Accuracy Score: 0.7432646592709984\n",
      "Fold: 3\n",
      "Accuracy Score: 0.7432646592709984\n",
      "Fold: 4\n",
      "Accuracy Score: 0.751188589540412\n",
      "Fold: 5\n",
      "Accuracy Score: 0.7310126582278481\n",
      "Fold: 6\n",
      "Accuracy Score: 0.7420886075949367\n",
      "Fold: 7\n",
      "Accuracy Score: 0.75\n",
      "Fold: 8\n",
      "Accuracy Score: 0.7420886075949367\n",
      "Fold: 9\n",
      "Accuracy Score: 0.7472353870458136\n",
      "Fold: 10\n",
      "Accuracy Score: 0.7456556082148499\n"
     ]
    }
   ],
   "source": [
    "dt = DecisionTreeClassifier(random_state=42,max_depth=4,min_samples_leaf = 26)\n",
    "\n",
    "\n",
    "# Test Score\n",
    "final_score = []\n",
    "# Stratified KFold\n",
    "skf = StratifiedKFold(n_splits=10, random_state=42, shuffle=False)\n",
    "for fold, (train_index, test_index) in enumerate(skf.split(X, y)):\n",
    "    print(\"Fold:\" , fold +1)\n",
    "    X_train, X_test = X.iloc[train_index], X.iloc[test_index]\n",
    "    y_train, y_test = y.iloc[train_index], y.iloc[test_index]\n",
    "    dt.fit(X_train,y_train)\n",
    "    predictions = dt.predict(X_test)\n",
    "    final_score.append(accuracy_score(y_test, predictions))\n",
    "    print(\"Accuracy Score:\" ,accuracy_score(y_test, predictions))    \n",
    "    \n",
    "decision_test = np.mean(final_score)\n",
    "\n",
    "# Train Score\n",
    "final_score_train = []\n",
    "# Stratified KFold\n",
    "skf = StratifiedKFold(n_splits=10, random_state=42, shuffle=False)\n",
    "for fold, (train_index, test_index) in enumerate(skf.split(X, y)):\n",
    "    print(\"Fold:\" , fold +1)\n",
    "    X_train, X_test = X.iloc[train_index], X.iloc[test_index]\n",
    "    y_train, y_test = y.iloc[train_index], y.iloc[test_index]\n",
    "    dt.fit(X_train,y_train)\n",
    "    predictions = dt.predict(X_train)\n",
    "    final_score_train.append(accuracy_score(y_train, predictions))\n",
    "    print(\"Accuracy Score:\" ,accuracy_score(y_train, predictions))\n",
    "    \n",
    "decision_train = np.mean(final_score_train)"
   ]
  },
  {
   "cell_type": "markdown",
   "metadata": {},
   "source": [
    "**Plot test accuracy vs. train accuracy**"
   ]
  },
  {
   "cell_type": "code",
   "execution_count": 313,
   "metadata": {},
   "outputs": [
    {
     "data": {
      "image/png": "[encoded data removed]",
      "text/plain": [
       "<Figure size 432x288 with 1 Axes>"
      ]
     },
     "metadata": {
      "needs_background": "light"
     },
     "output_type": "display_data"
    }
   ],
   "source": [
    "fig, ax = plt.subplots()\n",
    "ax.plot(final_score_train, '-b', label='train')\n",
    "ax.plot(final_score, '--r', label='test')\n",
    "leg = ax.legend();"
   ]
  },
  {
   "cell_type": "markdown",
   "metadata": {},
   "source": [
    "Our mean train accuracy is 0.75 whereas our mean test accuracy is 0.71. Test error has high variance again. The high variance could be due to the noise in our training data. However, since tree based models are not affected by scaling it is not due to neeed for scaling. We were able to predict %71 of the classes from test data shown by our mean accuracy score. This is comparably less than our LogisticRegression Scores. There is no indication of overfitting or underfitting for test set since the accuracy scores jump up and down. There could be slight over fitting for train data looking at the scores over the 10 folds for test and train data."
   ]
  },
  {
   "cell_type": "markdown",
   "metadata": {},
   "source": [
    "# Random Forest"
   ]
  },
  {
   "cell_type": "markdown",
   "metadata": {},
   "source": [
    "**GridSearchCV for tuning Parameters**"
   ]
  },
  {
   "cell_type": "code",
   "execution_count": 307,
   "metadata": {},
   "outputs": [
    {
     "name": "stdout",
     "output_type": "stream",
     "text": [
      "Fitting 10 folds for each of 12 candidates, totalling 120 fits\n"
     ]
    },
    {
     "name": "stderr",
     "output_type": "stream",
     "text": [
      "[Parallel(n_jobs=1)]: Using backend SequentialBackend with 1 concurrent workers.\n",
      "[Parallel(n_jobs=1)]: Done 120 out of 120 | elapsed:  3.2min finished\n"
     ]
    },
    {
     "name": "stdout",
     "output_type": "stream",
     "text": [
      "{'max_features': 3} 0.740916271721959\n"
     ]
    },
    {
     "data": {
      "text/plain": [
       "RandomForestClassifier(bootstrap=True, class_weight=None, criterion='gini',\n",
       "                       max_depth=9, max_features=3, max_leaf_nodes=None,\n",
       "                       min_impurity_decrease=0.0, min_impurity_split=None,\n",
       "                       min_samples_leaf=5, min_samples_split=2,\n",
       "                       min_weight_fraction_leaf=0.0, n_estimators=500,\n",
       "                       n_jobs=None, oob_score=False, random_state=0, verbose=0,\n",
       "                       warm_start=False)"
      ]
     },
     "execution_count": 307,
     "metadata": {},
     "output_type": "execute_result"
    }
   ],
   "source": [
    "skf = StratifiedKFold(n_splits=10, random_state=42, shuffle=False)\n",
    "\n",
    "# only asked to tune number of features to do a split\n",
    "# Max_features should be between 0,n_features(We have 14 features)\n",
    "param_testing_m = {'max_features':np.arange(1,14,1)}  \n",
    "# {'max_features': 3} 0.740916271721959\n",
    "\n",
    "\n",
    "gr = GridSearchCV(RandomForestClassifier(max_depth=9, \n",
    "                                              random_state=0,\n",
    "                                              min_samples_leaf = 5,\n",
    "                                              n_estimators = 500)\n",
    "                  ,param_testing_m,\n",
    "                  verbose = 1,\n",
    "                  scoring='accuracy',\n",
    "                  cv = skf)\n",
    "\n",
    "    \n",
    "gr.fit(X_train,y_train)\n",
    "print(gr.best_params_, gr.best_score_)\n",
    "best_estimator = gr.best_estimator_\n",
    "best_estimator"
   ]
  },
  {
   "cell_type": "markdown",
   "metadata": {},
   "source": [
    "**Run the Model**"
   ]
  },
  {
   "cell_type": "code",
   "execution_count": 308,
   "metadata": {
    "scrolled": true
   },
   "outputs": [
    {
     "name": "stdout",
     "output_type": "stream",
     "text": [
      "Fold: 1\n",
      "Accuracy Score: 0.7464788732394366\n",
      "Fold: 2\n",
      "Accuracy Score: 0.8169014084507042\n",
      "Fold: 3\n",
      "Accuracy Score: 0.7183098591549296\n",
      "Fold: 4\n",
      "Accuracy Score: 0.6901408450704225\n",
      "Fold: 5\n",
      "Accuracy Score: 0.8142857142857143\n",
      "Fold: 6\n",
      "Accuracy Score: 0.6285714285714286\n",
      "Fold: 7\n",
      "Accuracy Score: 0.7\n",
      "Fold: 8\n",
      "Accuracy Score: 0.7142857142857143\n",
      "Fold: 9\n",
      "Accuracy Score: 0.855072463768116\n",
      "Fold: 10\n",
      "Accuracy Score: 0.7536231884057971\n",
      "Fold: 1\n",
      "Accuracy Score: 0.8684627575277337\n",
      "Fold: 2\n",
      "Accuracy Score: 0.8637083993660856\n",
      "Fold: 3\n",
      "Accuracy Score: 0.8684627575277337\n",
      "Fold: 4\n",
      "Accuracy Score: 0.8637083993660856\n",
      "Fold: 5\n",
      "Accuracy Score: 0.8639240506329114\n",
      "Fold: 6\n",
      "Accuracy Score: 0.8670886075949367\n",
      "Fold: 7\n",
      "Accuracy Score: 0.870253164556962\n",
      "Fold: 8\n",
      "Accuracy Score: 0.870253164556962\n",
      "Fold: 9\n",
      "Accuracy Score: 0.8688783570300158\n",
      "Fold: 10\n",
      "Accuracy Score: 0.8672985781990521\n"
     ]
    }
   ],
   "source": [
    "rf = RandomForestClassifier(max_depth=9, random_state=0,min_samples_leaf = 5,n_estimators = 500,max_features = 3)\n",
    "\n",
    "\n",
    "# Test Score\n",
    "final_score = []\n",
    "# Stratified KFold\n",
    "skf = StratifiedKFold(n_splits=10, random_state=42, shuffle=False)\n",
    "for fold, (train_index, test_index) in enumerate(skf.split(X, y)):\n",
    "    print(\"Fold:\" , fold +1)\n",
    "    X_train, X_test = X.iloc[train_index], X.iloc[test_index]\n",
    "    y_train, y_test = y.iloc[train_index], y.iloc[test_index]\n",
    "    rf.fit(X_train,y_train)\n",
    "    predictions = rf.predict(X_test)\n",
    "    final_score.append(accuracy_score(y_test, predictions))\n",
    "    print(\"Accuracy Score:\" ,accuracy_score(y_test, predictions))    \n",
    "    \n",
    "random_test = np.mean(final_score)\n",
    "\n",
    "# Train Score\n",
    "final_score_train = []\n",
    "# Stratified KFold\n",
    "skf = StratifiedKFold(n_splits=10, random_state=42, shuffle=False)\n",
    "for fold, (train_index, test_index) in enumerate(skf.split(X, y)):\n",
    "    print(\"Fold:\" , fold +1)\n",
    "    X_train, X_test = X.iloc[train_index], X.iloc[test_index]\n",
    "    y_train, y_test = y.iloc[train_index], y.iloc[test_index]\n",
    "    rf.fit(X_train,y_train)\n",
    "    predictions = rf.predict(X_train)\n",
    "    final_score_train.append(accuracy_score(y_train, predictions))\n",
    "    print(\"Accuracy Score:\" ,accuracy_score(y_train, predictions))\n",
    "    \n",
    "random_train = np.mean(final_score_train)"
   ]
  },
  {
   "cell_type": "markdown",
   "metadata": {},
   "source": [
    "**Plot test accuracy vs. train accuracy**"
   ]
  },
  {
   "cell_type": "code",
   "execution_count": 310,
   "metadata": {},
   "outputs": [
    {
     "data": {
      "image/png": "[encoded data removed]",
      "text/plain": [
       "<Figure size 432x288 with 1 Axes>"
      ]
     },
     "metadata": {
      "needs_background": "light"
     },
     "output_type": "display_data"
    }
   ],
   "source": [
    "fig, ax = plt.subplots()\n",
    "ax.plot(final_score_train, '-b', label='train')\n",
    "ax.plot(final_score, '--r', label='test')\n",
    "leg = ax.legend();"
   ]
  },
  {
   "cell_type": "markdown",
   "metadata": {},
   "source": [
    "Our mean train accuracy is 0.86 whereas our mean test accuracy is 0.74. Test error has high variance again. The high variance could be due to the noise in our training data. However, since tree based models are not affected by scaling it is not due to neeed for scaling. For this we can say our model overfitted the train data which can be expected because we have about ~600 lines of data. And overfitting is expected for such small data."
   ]
  },
  {
   "cell_type": "markdown",
   "metadata": {},
   "source": [
    "# Stochastic Gradient Boosting (SGB):"
   ]
  },
  {
   "cell_type": "markdown",
   "metadata": {},
   "source": [
    "**GridSearchCV for tuning Parameters**"
   ]
  },
  {
   "cell_type": "code",
   "execution_count": 322,
   "metadata": {},
   "outputs": [
    {
     "name": "stdout",
     "output_type": "stream",
     "text": [
      "Fitting 10 folds for each of 2 candidates, totalling 20 fits\n"
     ]
    },
    {
     "name": "stderr",
     "output_type": "stream",
     "text": [
      "[Parallel(n_jobs=1)]: Using backend SequentialBackend with 1 concurrent workers.\n",
      "[Parallel(n_jobs=1)]: Done  20 out of  20 | elapsed:    6.5s finished\n"
     ]
    },
    {
     "name": "stdout",
     "output_type": "stream",
     "text": [
      "{'learning_rate': 0.01} 0.7456556082148499\n"
     ]
    },
    {
     "data": {
      "text/plain": [
       "GradientBoostingClassifier(criterion='friedman_mse', init=None,\n",
       "                           learning_rate=0.01, loss='deviance', max_depth=2,\n",
       "                           max_features=None, max_leaf_nodes=None,\n",
       "                           min_impurity_decrease=0.0, min_impurity_split=None,\n",
       "                           min_samples_leaf=1, min_samples_split=2,\n",
       "                           min_weight_fraction_leaf=0.0, n_estimators=350,\n",
       "                           n_iter_no_change=None, presort='auto',\n",
       "                           random_state=42, subsample=1.0, tol=0.0001,\n",
       "                           validation_fraction=0.1, verbose=0,\n",
       "                           warm_start=False)"
      ]
     },
     "execution_count": 322,
     "metadata": {},
     "output_type": "execute_result"
    }
   ],
   "source": [
    "skf = StratifiedKFold(n_splits=10, random_state=42, shuffle=False)\n",
    "\n",
    "\n",
    "\n",
    "param_testing_depth = {'max_depth':np.arange(1,14,1)}  \n",
    "# {'max_depth': 2} 0.7282780410742496\n",
    "param_testing_trees = {'n_estimators':np.arange(300,500,50)}\n",
    "# {'n_estimators': 350} 0.7456556082148499\n",
    "param_testing_learning = {'learning_rate':np.arange(0.01,0.1,0.05)} \n",
    "# {'learning_rate': 0.01} 0.7456556082148499\n",
    "\n",
    "\n",
    "\n",
    "gr = GridSearchCV(GradientBoostingClassifier(random_state=42,max_depth = 2,n_estimators = 350)\n",
    "                  ,param_testing_learning,\n",
    "                  verbose = 1,\n",
    "                  scoring='accuracy',\n",
    "                  cv = skf)\n",
    "\n",
    "    \n",
    "gr.fit(X_train,y_train)\n",
    "print(gr.best_params_, gr.best_score_)\n",
    "best_estimator = gr.best_estimator_\n",
    "best_estimator"
   ]
  },
  {
   "cell_type": "markdown",
   "metadata": {},
   "source": [
    "**Run the Model**"
   ]
  },
  {
   "cell_type": "code",
   "execution_count": 325,
   "metadata": {
    "scrolled": false
   },
   "outputs": [
    {
     "name": "stdout",
     "output_type": "stream",
     "text": [
      "Fold: 1\n",
      "Accuracy Score: 0.8028169014084507\n",
      "Fold: 2\n",
      "Accuracy Score: 0.8028169014084507\n",
      "Fold: 3\n",
      "Accuracy Score: 0.676056338028169\n",
      "Fold: 4\n",
      "Accuracy Score: 0.7183098591549296\n",
      "Fold: 5\n",
      "Accuracy Score: 0.8428571428571429\n",
      "Fold: 6\n",
      "Accuracy Score: 0.6142857142857143\n",
      "Fold: 7\n",
      "Accuracy Score: 0.7142857142857143\n",
      "Fold: 8\n",
      "Accuracy Score: 0.6714285714285714\n",
      "Fold: 9\n",
      "Accuracy Score: 0.8115942028985508\n",
      "Fold: 10\n",
      "Accuracy Score: 0.7391304347826086\n",
      "Fold: 1\n",
      "Accuracy Score: 0.7797147385103012\n",
      "Fold: 2\n",
      "Accuracy Score: 0.7781299524564184\n",
      "Fold: 3\n",
      "Accuracy Score: 0.7892234548335975\n",
      "Fold: 4\n",
      "Accuracy Score: 0.7765451664025357\n",
      "Fold: 5\n",
      "Accuracy Score: 0.7800632911392406\n",
      "Fold: 6\n",
      "Accuracy Score: 0.7927215189873418\n",
      "Fold: 7\n",
      "Accuracy Score: 0.7863924050632911\n",
      "Fold: 8\n",
      "Accuracy Score: 0.7800632911392406\n",
      "Fold: 9\n",
      "Accuracy Score: 0.7788309636650869\n",
      "Fold: 10\n",
      "Accuracy Score: 0.7819905213270142\n"
     ]
    }
   ],
   "source": [
    "gb = GradientBoostingClassifier(random_state=42,max_depth = 2,n_estimators = 350, learning_rate = 0.01)\n",
    "\n",
    "\n",
    "# Test Score\n",
    "final_score = []\n",
    "# Stratified KFold\n",
    "skf = StratifiedKFold(n_splits=10, random_state=42, shuffle=False)\n",
    "for fold, (train_index, test_index) in enumerate(skf.split(X, y)):\n",
    "    print(\"Fold:\" , fold +1)\n",
    "    X_train, X_test = X.iloc[train_index], X.iloc[test_index]\n",
    "    y_train, y_test = y.iloc[train_index], y.iloc[test_index]\n",
    "    gb.fit(X_train,y_train)\n",
    "    predictions = gb.predict(X_test)\n",
    "    final_score.append(accuracy_score(y_test, predictions))\n",
    "    print(\"Accuracy Score:\" ,accuracy_score(y_test, predictions))    \n",
    "    \n",
    "gradient_test = np.mean(final_score)\n",
    "\n",
    "# Train Score\n",
    "final_score_train = []\n",
    "# Stratified KFold\n",
    "skf = StratifiedKFold(n_splits=10, random_state=42, shuffle=False)\n",
    "for fold, (train_index, test_index) in enumerate(skf.split(X, y)):\n",
    "    print(\"Fold:\" , fold +1)\n",
    "    X_train, X_test = X.iloc[train_index], X.iloc[test_index]\n",
    "    y_train, y_test = y.iloc[train_index], y.iloc[test_index]\n",
    "    gb.fit(X_train,y_train)\n",
    "    predictions = gb.predict(X_train)\n",
    "    final_score_train.append(accuracy_score(y_train, predictions))\n",
    "    print(\"Accuracy Score:\" ,accuracy_score(y_train, predictions))\n",
    "    \n",
    "gradient_train = np.mean(final_score_train)"
   ]
  },
  {
   "cell_type": "code",
   "execution_count": 327,
   "metadata": {},
   "outputs": [
    {
     "data": {
      "text/plain": [
       "0.7823675303524067"
      ]
     },
     "execution_count": 327,
     "metadata": {},
     "output_type": "execute_result"
    }
   ],
   "source": [
    "gradient_train"
   ]
  },
  {
   "cell_type": "code",
   "execution_count": 328,
   "metadata": {},
   "outputs": [
    {
     "data": {
      "text/plain": [
       "0.7393581780538303"
      ]
     },
     "execution_count": 328,
     "metadata": {},
     "output_type": "execute_result"
    }
   ],
   "source": [
    "gradient_test"
   ]
  },
  {
   "cell_type": "markdown",
   "metadata": {},
   "source": [
    "**Plot test accuracy vs. train accuracy**"
   ]
  },
  {
   "cell_type": "code",
   "execution_count": 326,
   "metadata": {
    "scrolled": true
   },
   "outputs": [
    {
     "data": {
      "image/png": "[encoded data removed]",
      "text/plain": [
       "<Figure size 432x288 with 1 Axes>"
      ]
     },
     "metadata": {
      "needs_background": "light"
     },
     "output_type": "display_data"
    }
   ],
   "source": [
    "fig, ax = plt.subplots()\n",
    "ax.plot(final_score_train, '-b', label='train')\n",
    "ax.plot(final_score, '--r', label='test')\n",
    "leg = ax.legend();"
   ]
  },
  {
   "cell_type": "markdown",
   "metadata": {},
   "source": [
    "Our mean train accuracy is 0.78 whereas our mean test accuracy is 0.73. Test error has high variance as usual. The high variance could be due to the noise in our training data. For this we can say our model overfitted the train data which can be expected because we have about ~600 lines of data. And overfitting is expected for such small data for complex models"
   ]
  },
  {
   "cell_type": "markdown",
   "metadata": {},
   "source": [
    "**Let's compare the results from all algorithms**"
   ]
  },
  {
   "cell_type": "code",
   "execution_count": 331,
   "metadata": {},
   "outputs": [
    {
     "data": {
      "text/html": [
       "<div>\n",
       "<style scoped>\n",
       "    .dataframe tbody tr th:only-of-type {\n",
       "        vertical-align: middle;\n",
       "    }\n",
       "\n",
       "    .dataframe tbody tr th {\n",
       "        vertical-align: top;\n",
       "    }\n",
       "\n",
       "    .dataframe thead th {\n",
       "        text-align: right;\n",
       "    }\n",
       "</style>\n",
       "<table border=\"1\" class=\"dataframe\">\n",
       "  <thead>\n",
       "    <tr style=\"text-align: right;\">\n",
       "      <th></th>\n",
       "      <th>train</th>\n",
       "      <th>test</th>\n",
       "    </tr>\n",
       "  </thead>\n",
       "  <tbody>\n",
       "    <tr>\n",
       "      <th>LogisticRegression</th>\n",
       "      <td>0.765271</td>\n",
       "      <td>0.757869</td>\n",
       "    </tr>\n",
       "    <tr>\n",
       "      <th>DecisionTree</th>\n",
       "      <td>0.742322</td>\n",
       "      <td>0.712336</td>\n",
       "    </tr>\n",
       "    <tr>\n",
       "      <th>RandomForest</th>\n",
       "      <td>0.782368</td>\n",
       "      <td>0.739358</td>\n",
       "    </tr>\n",
       "    <tr>\n",
       "      <th>GradientBoosting</th>\n",
       "      <td>0.782368</td>\n",
       "      <td>0.739358</td>\n",
       "    </tr>\n",
       "  </tbody>\n",
       "</table>\n",
       "</div>"
      ],
      "text/plain": [
       "                       train      test\n",
       "LogisticRegression  0.765271  0.757869\n",
       "DecisionTree        0.742322  0.712336\n",
       "RandomForest        0.782368  0.739358\n",
       "GradientBoosting    0.782368  0.739358"
      ]
     },
     "execution_count": 331,
     "metadata": {},
     "output_type": "execute_result"
    }
   ],
   "source": [
    "# Add train and test scores for all Algorithms\n",
    "classification_algorithm_df = pd.DataFrame(data = {\"train\":[logistic_train,decision_train,random_train,gradient_train],\n",
    "                                                   \"test\":[logistic_test,decision_test,random_test,gradient_test]})\n",
    "classification_algorithm_df.index = [\"LogisticRegression\",\"DecisionTree\",\"RandomForest\",\"GradientBoosting\"]\n",
    "classification_algorithm_df"
   ]
  },
  {
   "cell_type": "markdown",
   "metadata": {},
   "source": [
    "We see that Logistic Regression with Lasso penalty has the highest test accuracy which is expected because our data size is very small about 600 rows that is why the complex models are expected to overfit and produce lower accuracy on test data."
   ]
  },
  {
   "cell_type": "markdown",
   "metadata": {},
   "source": [
    "## 1.Regression - <span style=\"color:gray\"> Predict the total number of goals</span>"
   ]
  },
  {
   "cell_type": "markdown",
   "metadata": {},
   "source": [
    "**Import Packages**"
   ]
  },
  {
   "cell_type": "code",
   "execution_count": 454,
   "metadata": {},
   "outputs": [],
   "source": [
    "# Import some additional packages\n",
    "from sklearn.metrics import mean_squared_error\n",
    "from yellowbrick.regressor import AlphaSelection\n",
    "from sklearn.linear_model import LassoCV\n",
    "from sklearn.linear_model import Lasso\n",
    "from sklearn.metrics import mean_absolute_error\n",
    "from yellowbrick.regressor import ManualAlphaSelection"
   ]
  },
  {
   "cell_type": "markdown",
   "metadata": {},
   "source": [
    "**Create column total number of goals**"
   ]
  },
  {
   "cell_type": "code",
   "execution_count": 455,
   "metadata": {},
   "outputs": [],
   "source": [
    "matches[\"total\"] = matches[\"home_score\"] + matches[\"away_score\"]"
   ]
  },
  {
   "cell_type": "markdown",
   "metadata": {},
   "source": [
    "**Set X(features) and y(target) variables**"
   ]
  },
  {
   "cell_type": "code",
   "execution_count": 456,
   "metadata": {},
   "outputs": [],
   "source": [
    "X = matches.drop(['match_id','match_status',\n",
    "       'match_live', 'match_hometeam_name', 'match_awayteam_name',\n",
    "       'home_score', 'away_score', 'match_hometeam_halftime_score',\n",
    "       'match_awayteam_halftime_score', 'match_hometeam_extra_score',\n",
    "       'match_awayteam_extra_score', 'match_hometeam_penalty_score',\n",
    "       'match_awayteam_penalty_score', 'league_id', 'datetime', 'Date', 'Time',\n",
    "       'match_result',\"home_points\",\"away_points\",\"total\"], axis = 1)\n",
    "\n",
    "y = matches[\"total\"]"
   ]
  },
  {
   "cell_type": "markdown",
   "metadata": {},
   "source": [
    "# Algorithms"
   ]
  },
  {
   "cell_type": "markdown",
   "metadata": {},
   "source": [
    "# LassoCV"
   ]
  },
  {
   "cell_type": "markdown",
   "metadata": {},
   "source": [
    "**GridSearchCV for tuning Parameters**"
   ]
  },
  {
   "cell_type": "code",
   "execution_count": 361,
   "metadata": {},
   "outputs": [
    {
     "name": "stdout",
     "output_type": "stream",
     "text": [
      "Fitting 10 folds for each of 3 candidates, totalling 30 fits\n"
     ]
    },
    {
     "name": "stderr",
     "output_type": "stream",
     "text": [
      "[Parallel(n_jobs=1)]: Using backend SequentialBackend with 1 concurrent workers.\n"
     ]
    },
    {
     "name": "stdout",
     "output_type": "stream",
     "text": [
      "{'alpha': 0.01} -0.38093438179085426\n"
     ]
    },
    {
     "name": "stderr",
     "output_type": "stream",
     "text": [
      "[Parallel(n_jobs=1)]: Done  30 out of  30 | elapsed:    0.2s finished\n"
     ]
    },
    {
     "data": {
      "text/plain": [
       "Lasso(alpha=0.01, copy_X=True, fit_intercept=True, max_iter=1000,\n",
       "      normalize=False, positive=False, precompute=False, random_state=42,\n",
       "      selection='cyclic', tol=0.0001, warm_start=False)"
      ]
     },
     "execution_count": 361,
     "metadata": {},
     "output_type": "execute_result"
    }
   ],
   "source": [
    "skf = StratifiedKFold(n_splits=10, random_state=42, shuffle=False)\n",
    "\n",
    "\n",
    "\n",
    "param_testing = {'alpha': [0.01,0.1,1.10]}\n",
    "# {'alpha': 0.01} -0.38093438179085426\n",
    "\n",
    "gr = GridSearchCV(Lasso( random_state=42),\n",
    "                  param_testing,\n",
    "                  verbose = 1,\n",
    "                  scoring='neg_mean_absolute_error',\n",
    "                  cv = skf)\n",
    "\n",
    "    \n",
    "gr.fit(X_train,y_train)\n",
    "print(gr.best_params_, gr.best_score_)\n",
    "best_estimator = gr.best_estimator_\n",
    "best_estimator"
   ]
  },
  {
   "cell_type": "markdown",
   "metadata": {},
   "source": [
    "**Run the Model**"
   ]
  },
  {
   "cell_type": "code",
   "execution_count": 457,
   "metadata": {
    "scrolled": true
   },
   "outputs": [
    {
     "name": "stdout",
     "output_type": "stream",
     "text": [
      "Fold: 1\n",
      "MAE Score: 0.913230702869423\n",
      "Fold: 2\n",
      "MAE Score: 1.0872041555830227\n",
      "Fold: 3\n",
      "MAE Score: 1.0847688460515887\n",
      "Fold: 4\n",
      "MAE Score: 1.0435433247075925\n",
      "Fold: 5\n",
      "MAE Score: 1.0173723797776024\n",
      "Fold: 6\n",
      "MAE Score: 1.0589484994175786\n",
      "Fold: 7\n",
      "MAE Score: 1.0334558225410022\n",
      "Fold: 8\n",
      "MAE Score: 0.9098127227860934\n",
      "Fold: 9\n",
      "MAE Score: 1.0179822156708123\n",
      "Fold: 10\n",
      "MAE Score: 0.9968343934975068\n",
      "Fold: 1\n",
      "MAE Score: 1.0104729474415597\n",
      "Fold: 2\n",
      "MAE Score: 0.9956585041595947\n",
      "Fold: 3\n",
      "MAE Score: 0.9924375470117368\n",
      "Fold: 4\n",
      "MAE Score: 0.9963389270415798\n",
      "Fold: 5\n",
      "MAE Score: 0.9965205008489125\n",
      "Fold: 6\n",
      "MAE Score: 0.9971545457829148\n",
      "Fold: 7\n",
      "MAE Score: 0.9983156264605353\n",
      "Fold: 8\n",
      "MAE Score: 1.0080952695844412\n",
      "Fold: 9\n",
      "MAE Score: 1.0021340401416146\n",
      "Fold: 10\n",
      "MAE Score: 1.0015616933084397\n"
     ]
    }
   ],
   "source": [
    "lr = Lasso(alpha=0.01, random_state=42)\n",
    "\n",
    "\n",
    "# Test Score\n",
    "final_score = []\n",
    "# Stratified KFold\n",
    "skf = StratifiedKFold(n_splits=10, random_state=42, shuffle=False)\n",
    "for fold, (train_index, test_index) in enumerate(skf.split(X, y)):\n",
    "    print(\"Fold:\" , fold +1)\n",
    "    X_train, X_test = X.iloc[train_index], X.iloc[test_index]\n",
    "    y_train, y_test = y.iloc[train_index], y.iloc[test_index]\n",
    "    lr.fit(X_train,y_train)\n",
    "    predictions = lr.predict(X_test)\n",
    "    final_score.append(mean_absolute_error(y_test, predictions))\n",
    "    print(\"MAE Score:\" ,mean_absolute_error(y_test, predictions))    \n",
    "    \n",
    "lasso_test = np.mean(final_score)\n",
    "\n",
    "# Train Score\n",
    "final_score_train = []\n",
    "# Stratified KFold\n",
    "skf = StratifiedKFold(n_splits=10, random_state=42, shuffle=False)\n",
    "for fold, (train_index, test_index) in enumerate(skf.split(X, y)):\n",
    "    print(\"Fold:\" , fold +1)\n",
    "    X_train, X_test = X.iloc[train_index], X.iloc[test_index]\n",
    "    y_train, y_test = y.iloc[train_index], y.iloc[test_index]\n",
    "    lr.fit(X_train,y_train)\n",
    "    predictions = lr.predict(X_train)\n",
    "    final_score_train.append(mean_absolute_error(y_train, predictions))\n",
    "    print(\"MAE Score:\" ,mean_absolute_error(y_train, predictions))\n",
    "    \n",
    "lasso_train = np.mean(final_score_train)"
   ]
  },
  {
   "cell_type": "code",
   "execution_count": 459,
   "metadata": {
    "scrolled": true
   },
   "outputs": [
    {
     "data": {
      "text/plain": [
       "0.999868960178133"
      ]
     },
     "execution_count": 459,
     "metadata": {},
     "output_type": "execute_result"
    }
   ],
   "source": [
    "lasso_train"
   ]
  },
  {
   "cell_type": "code",
   "execution_count": 460,
   "metadata": {},
   "outputs": [
    {
     "data": {
      "text/plain": [
       "1.0163153062902224"
      ]
     },
     "execution_count": 460,
     "metadata": {},
     "output_type": "execute_result"
    }
   ],
   "source": [
    "lasso_test"
   ]
  },
  {
   "cell_type": "markdown",
   "metadata": {},
   "source": [
    "**Plot test accuracy vs. train accuracy**"
   ]
  },
  {
   "cell_type": "code",
   "execution_count": 458,
   "metadata": {
    "scrolled": false
   },
   "outputs": [
    {
     "data": {
      "image/png": "[encoded data removed]",
      "text/plain": [
       "<Figure size 576x396 with 1 Axes>"
      ]
     },
     "metadata": {},
     "output_type": "display_data"
    }
   ],
   "source": [
    "fig, ax = plt.subplots()\n",
    "ax.plot(final_score_train, '-b', label='train')\n",
    "ax.plot(final_score, '--r', label='test')\n",
    "leg = ax.legend();"
   ]
  },
  {
   "cell_type": "markdown",
   "metadata": {},
   "source": [
    "Our average train score is 0.99 and test score is 1.01. They are very close however test scores have high variance. And overfitting/underfitting situation changes from fold to fold. For example for fold 1 train data is underfitted but for fold \n",
    "7 train data is overfitted."
   ]
  },
  {
   "cell_type": "markdown",
   "metadata": {},
   "source": [
    "# Decision Tree"
   ]
  },
  {
   "cell_type": "markdown",
   "metadata": {},
   "source": [
    "**GridSearchCV for tuning Parameters**"
   ]
  },
  {
   "cell_type": "code",
   "execution_count": 369,
   "metadata": {},
   "outputs": [
    {
     "name": "stdout",
     "output_type": "stream",
     "text": [
      "Fitting 10 folds for each of 99 candidates, totalling 990 fits\n"
     ]
    },
    {
     "name": "stderr",
     "output_type": "stream",
     "text": [
      "[Parallel(n_jobs=1)]: Using backend SequentialBackend with 1 concurrent workers.\n"
     ]
    },
    {
     "name": "stdout",
     "output_type": "stream",
     "text": [
      "{'min_samples_leaf': 1} -0.0330188679245283\n"
     ]
    },
    {
     "name": "stderr",
     "output_type": "stream",
     "text": [
      "[Parallel(n_jobs=1)]: Done 990 out of 990 | elapsed:    7.9s finished\n"
     ]
    },
    {
     "data": {
      "text/plain": [
       "DecisionTreeClassifier(class_weight=None, criterion='gini', max_depth=4,\n",
       "                       max_features=None, max_leaf_nodes=None,\n",
       "                       min_impurity_decrease=0.0, min_impurity_split=None,\n",
       "                       min_samples_leaf=1, min_samples_split=2,\n",
       "                       min_weight_fraction_leaf=0.0, presort=False,\n",
       "                       random_state=42, splitter='best')"
      ]
     },
     "execution_count": 369,
     "metadata": {},
     "output_type": "execute_result"
    }
   ],
   "source": [
    "skf = StratifiedKFold(n_splits=10, random_state=42, shuffle=False)\n",
    "\n",
    "# We will try these parameters seperately because when tried together they do not give the best result\n",
    "param_testing_depth = {'max_depth':np.arange(1,100,1)}  \n",
    "# {'max_depth': 4} -0.0330188679245283\n",
    "param_testing_minsamples = {'min_samples_leaf':np.arange(1,100,1)}  ,\n",
    "# {'min_samples_leaf': 1} -0.0330188679245283\n",
    "\n",
    "gr = GridSearchCV(DecisionTreeClassifier(random_state=42,max_depth = 4),\n",
    "                  param_testing_minsamples,\n",
    "                  verbose = 1,\n",
    "                  scoring='neg_mean_absolute_error',\n",
    "                  cv = skf)\n",
    "\n",
    "    \n",
    "gr.fit(X_train,y_train)\n",
    "print(gr.best_params_, gr.best_score_)\n",
    "best_estimator = gr.best_estimator_\n",
    "best_estimator"
   ]
  },
  {
   "cell_type": "markdown",
   "metadata": {},
   "source": [
    "**Run the Model**"
   ]
  },
  {
   "cell_type": "code",
   "execution_count": 461,
   "metadata": {
    "scrolled": true
   },
   "outputs": [
    {
     "name": "stdout",
     "output_type": "stream",
     "text": [
      "Fold: 1\n",
      "MAE Score: 2.8153393184827293\n",
      "Fold: 2\n",
      "MAE Score: 2.844984531986539\n",
      "Fold: 3\n",
      "MAE Score: 2.7811395884524313\n",
      "Fold: 4\n",
      "MAE Score: 2.731600184591599\n",
      "Fold: 5\n",
      "MAE Score: 2.726149271182712\n",
      "Fold: 6\n",
      "MAE Score: 2.714791774149825\n",
      "Fold: 7\n",
      "MAE Score: 2.6853142948631703\n",
      "Fold: 8\n",
      "MAE Score: 2.681292262785016\n",
      "Fold: 9\n",
      "MAE Score: 2.676494781189647\n",
      "Fold: 10\n",
      "MAE Score: 2.617652751604087\n",
      "Fold: 1\n",
      "MAE Score: 2.7111584886311384\n",
      "Fold: 2\n",
      "MAE Score: 2.7062647034304033\n",
      "Fold: 3\n",
      "MAE Score: 2.7275418835534\n",
      "Fold: 4\n",
      "MAE Score: 2.722107985228149\n",
      "Fold: 5\n",
      "MAE Score: 2.731298523071531\n",
      "Fold: 6\n",
      "MAE Score: 2.724532148386809\n",
      "Fold: 7\n",
      "MAE Score: 2.7329567903799417\n",
      "Fold: 8\n",
      "MAE Score: 2.727138301363371\n",
      "Fold: 9\n",
      "MAE Score: 2.738622916037635\n",
      "Fold: 10\n",
      "MAE Score: 2.7423315371592354\n"
     ]
    }
   ],
   "source": [
    "dt = DecisionTreeClassifier(random_state=42,max_depth=4,min_samples_leaf = 1)\n",
    "\n",
    "\n",
    "# Test Score\n",
    "final_score = []\n",
    "# Stratified KFold\n",
    "skf = StratifiedKFold(n_splits=10, random_state=42, shuffle=False)\n",
    "for fold, (train_index, test_index) in enumerate(skf.split(X, y)):\n",
    "    print(\"Fold:\" , fold +1)\n",
    "    X_train, X_test = X.iloc[train_index], X.iloc[test_index]\n",
    "    y_train, y_test = y.iloc[train_index], y.iloc[test_index]\n",
    "    dt.fit(X_train,y_train)\n",
    "    predictions = dt.predict_proba(X_test)[:,1]\n",
    "    final_score.append(mean_absolute_error(y_test, predictions))\n",
    "    print(\"MAE Score:\" ,mean_absolute_error(y_test, predictions))    \n",
    "    \n",
    "decision_test = np.mean(final_score)\n",
    "\n",
    "# Train Score\n",
    "final_score_train = []\n",
    "# Stratified KFold\n",
    "skf = StratifiedKFold(n_splits=10, random_state=42, shuffle=False)\n",
    "for fold, (train_index, test_index) in enumerate(skf.split(X, y)):\n",
    "    print(\"Fold:\" , fold +1)\n",
    "    X_train, X_test = X.iloc[train_index], X.iloc[test_index]\n",
    "    y_train, y_test = y.iloc[train_index], y.iloc[test_index]\n",
    "    dt.fit(X_train,y_train)\n",
    "    predictions = dt.predict_proba(X_train)[:,1]\n",
    "    final_score_train.append(mean_absolute_error(y_train, predictions))\n",
    "    print(\"MAE Score:\" ,mean_absolute_error(y_train, predictions))\n",
    "    \n",
    "decision_train = np.mean(final_score_train)"
   ]
  },
  {
   "cell_type": "markdown",
   "metadata": {},
   "source": [
    "**Plot test accuracy vs. train accuracy**"
   ]
  },
  {
   "cell_type": "code",
   "execution_count": 462,
   "metadata": {
    "scrolled": true
   },
   "outputs": [
    {
     "data": {
      "image/png": "[encoded data removed]",
      "text/plain": [
       "<Figure size 576x396 with 1 Axes>"
      ]
     },
     "metadata": {},
     "output_type": "display_data"
    }
   ],
   "source": [
    "fig, ax = plt.subplots()\n",
    "ax.plot(final_score_train, '-b', label='train')\n",
    "ax.plot(final_score, '--r', label='test')\n",
    "leg = ax.legend();"
   ]
  },
  {
   "cell_type": "markdown",
   "metadata": {},
   "source": [
    "Our mean train and test error rates are very close. Test error has high variance. We have only tuned max_depth and minimum samples in a leaf parameters  as requested in the question with GridSearchCV.The high variance could be due to the noise in our training data. Since most of the test scores are below out of 10 folds there is an inclination to overfitting for train data from fold 4-10."
   ]
  },
  {
   "cell_type": "markdown",
   "metadata": {},
   "source": [
    "# Random Forest"
   ]
  },
  {
   "cell_type": "markdown",
   "metadata": {},
   "source": [
    "**GridSearchCV for tuning Parameters**"
   ]
  },
  {
   "cell_type": "code",
   "execution_count": 374,
   "metadata": {},
   "outputs": [
    {
     "name": "stdout",
     "output_type": "stream",
     "text": [
      "Fitting 10 folds for each of 13 candidates, totalling 130 fits\n"
     ]
    },
    {
     "name": "stderr",
     "output_type": "stream",
     "text": [
      "[Parallel(n_jobs=1)]: Using backend SequentialBackend with 1 concurrent workers.\n",
      "[Parallel(n_jobs=1)]: Done 130 out of 130 | elapsed:  3.0min finished\n"
     ]
    },
    {
     "name": "stdout",
     "output_type": "stream",
     "text": [
      "{'max_features': 11} 0.9921383647798742\n"
     ]
    },
    {
     "data": {
      "text/plain": [
       "RandomForestClassifier(bootstrap=True, class_weight=None, criterion='gini',\n",
       "                       max_depth=9, max_features=11, max_leaf_nodes=None,\n",
       "                       min_impurity_decrease=0.0, min_impurity_split=None,\n",
       "                       min_samples_leaf=5, min_samples_split=2,\n",
       "                       min_weight_fraction_leaf=0.0, n_estimators=500,\n",
       "                       n_jobs=None, oob_score=False, random_state=0, verbose=0,\n",
       "                       warm_start=False)"
      ]
     },
     "execution_count": 374,
     "metadata": {},
     "output_type": "execute_result"
    }
   ],
   "source": [
    "skf = StratifiedKFold(n_splits=10, random_state=42, shuffle=False)\n",
    "\n",
    "# only asked to tune number of features to do a split\n",
    "# Max_features should be between 0,n_features(We have 14 features)\n",
    "param_testing_m = {'max_features':np.arange(1,14,1)}  \n",
    "# {'max_features': 11} 0.9921383647798742\n",
    "\n",
    "\n",
    "gr = GridSearchCV(RandomForestClassifier(max_depth=9, \n",
    "                                              random_state=0,\n",
    "                                              min_samples_leaf = 5,\n",
    "                                              n_estimators = 500)\n",
    "                  ,param_testing_m,\n",
    "                  verbose = 1,\n",
    "                  scoring='accuracy',\n",
    "                  cv = skf)\n",
    "\n",
    "    \n",
    "gr.fit(X_train,y_train)\n",
    "print(gr.best_params_, gr.best_score_)\n",
    "best_estimator = gr.best_estimator_\n",
    "best_estimator"
   ]
  },
  {
   "cell_type": "markdown",
   "metadata": {},
   "source": [
    "**Run the Model**"
   ]
  },
  {
   "cell_type": "code",
   "execution_count": 464,
   "metadata": {
    "scrolled": true
   },
   "outputs": [
    {
     "name": "stdout",
     "output_type": "stream",
     "text": [
      "Fold: 1\n",
      "MAE Score: 2.8119500072434174\n",
      "Fold: 2\n",
      "MAE Score: 2.847511221012299\n",
      "Fold: 3\n",
      "MAE Score: 2.773123635838805\n",
      "Fold: 4\n",
      "MAE Score: 2.724976122440725\n",
      "Fold: 5\n",
      "MAE Score: 2.716818469540792\n",
      "Fold: 6\n",
      "MAE Score: 2.724526680023764\n",
      "Fold: 7\n",
      "MAE Score: 2.6884972148967927\n",
      "Fold: 8\n",
      "MAE Score: 2.682439872431628\n",
      "Fold: 9\n",
      "MAE Score: 2.6916577477434314\n",
      "Fold: 10\n",
      "MAE Score: 2.609281823215753\n",
      "Fold: 1\n",
      "MAE Score: 2.7118661927768337\n",
      "Fold: 2\n",
      "MAE Score: 2.7099155948889853\n",
      "Fold: 3\n",
      "MAE Score: 2.7195210545960715\n",
      "Fold: 4\n",
      "MAE Score: 2.7256618544657956\n",
      "Fold: 5\n",
      "MAE Score: 2.7253312837255366\n",
      "Fold: 6\n",
      "MAE Score: 2.7248827531742714\n",
      "Fold: 7\n",
      "MAE Score: 2.7286727783312155\n",
      "Fold: 8\n",
      "MAE Score: 2.7307461774767767\n",
      "Fold: 9\n",
      "MAE Score: 2.732022571874855\n",
      "Fold: 10\n",
      "MAE Score: 2.7386483661141843\n"
     ]
    }
   ],
   "source": [
    "rf = RandomForestClassifier(max_depth=9, random_state=0,min_samples_leaf = 5,n_estimators = 500,max_features = 11)\n",
    "\n",
    "\n",
    "# Test Score\n",
    "final_score = []\n",
    "# Stratified KFold\n",
    "skf = StratifiedKFold(n_splits=10, random_state=42, shuffle=False)\n",
    "for fold, (train_index, test_index) in enumerate(skf.split(X, y)):\n",
    "    print(\"Fold:\" , fold +1)\n",
    "    X_train, X_test = X.iloc[train_index], X.iloc[test_index]\n",
    "    y_train, y_test = y.iloc[train_index], y.iloc[test_index]\n",
    "    rf.fit(X_train,y_train)\n",
    "    predictions = rf.predict_proba(X_test)[:,1]\n",
    "    final_score.append(mean_absolute_error(y_test, predictions))\n",
    "    print(\"MAE Score:\" ,mean_absolute_error(y_test, predictions))    \n",
    "    \n",
    "random_test = np.mean(final_score)\n",
    "\n",
    "# Train Score\n",
    "final_score_train = []\n",
    "# Stratified KFold\n",
    "skf = StratifiedKFold(n_splits=10, random_state=42, shuffle=False)\n",
    "for fold, (train_index, test_index) in enumerate(skf.split(X, y)):\n",
    "    print(\"Fold:\" , fold +1)\n",
    "    X_train, X_test = X.iloc[train_index], X.iloc[test_index]\n",
    "    y_train, y_test = y.iloc[train_index], y.iloc[test_index]\n",
    "    rf.fit(X_train,y_train)\n",
    "    predictions = rf.predict_proba(X_train)[:,1]\n",
    "    final_score_train.append(mean_absolute_error(y_train, predictions))\n",
    "    print(\"MAE Score:\" ,mean_absolute_error(y_train, predictions))\n",
    "    \n",
    "random_train = np.mean(final_score_train)"
   ]
  },
  {
   "cell_type": "markdown",
   "metadata": {},
   "source": [
    "**Plot test accuracy vs. train accuracy**"
   ]
  },
  {
   "cell_type": "code",
   "execution_count": 465,
   "metadata": {},
   "outputs": [
    {
     "data": {
      "image/png": "[encoded data removed]",
      "text/plain": [
       "<Figure size 576x396 with 1 Axes>"
      ]
     },
     "metadata": {},
     "output_type": "display_data"
    }
   ],
   "source": [
    "fig, ax = plt.subplots()\n",
    "ax.plot(final_score_train, '-b', label='train')\n",
    "ax.plot(final_score, '--r', label='test')\n",
    "leg = ax.legend();"
   ]
  },
  {
   "cell_type": "markdown",
   "metadata": {},
   "source": [
    "Our mean train score is 2.7 and our mean test accuracy is 2.7. Test error has high variance again. The high variance could be due to the noise in our training data. However, since tree based models are not affected by scaling it is not due to neeed for scaling. For this we can say our model overfitted the train data which can be expected because we have about ~600 lines of data. And overfitting is expected for such small data. Again can be seen for most folds model overfitted train data."
   ]
  },
  {
   "cell_type": "markdown",
   "metadata": {},
   "source": [
    "# Stochastic Gradient Boosting (SGB):"
   ]
  },
  {
   "cell_type": "markdown",
   "metadata": {},
   "source": [
    "**GridSearchCV for tuning Parameters**"
   ]
  },
  {
   "cell_type": "code",
   "execution_count": 381,
   "metadata": {},
   "outputs": [
    {
     "name": "stdout",
     "output_type": "stream",
     "text": [
      "Fitting 10 folds for each of 2 candidates, totalling 20 fits\n"
     ]
    },
    {
     "name": "stderr",
     "output_type": "stream",
     "text": [
      "[Parallel(n_jobs=1)]: Using backend SequentialBackend with 1 concurrent workers.\n",
      "[Parallel(n_jobs=1)]: Done  20 out of  20 | elapsed:  1.1min finished\n"
     ]
    },
    {
     "name": "stdout",
     "output_type": "stream",
     "text": [
      "{'learning_rate': 0.01} 1.0\n"
     ]
    },
    {
     "data": {
      "text/plain": [
       "GradientBoostingClassifier(criterion='friedman_mse', init=None,\n",
       "                           learning_rate=0.01, loss='deviance', max_depth=1,\n",
       "                           max_features=None, max_leaf_nodes=None,\n",
       "                           min_impurity_decrease=0.0, min_impurity_split=None,\n",
       "                           min_samples_leaf=1, min_samples_split=2,\n",
       "                           min_weight_fraction_leaf=0.0, n_estimators=300,\n",
       "                           n_iter_no_change=None, presort='auto',\n",
       "                           random_state=42, subsample=1.0, tol=0.0001,\n",
       "                           validation_fraction=0.1, verbose=0,\n",
       "                           warm_start=False)"
      ]
     },
     "execution_count": 381,
     "metadata": {},
     "output_type": "execute_result"
    }
   ],
   "source": [
    "skf = StratifiedKFold(n_splits=10, random_state=42, shuffle=False)\n",
    "\n",
    "\n",
    "\n",
    "param_testing_depth = {'max_depth':np.arange(1,14,1)}  \n",
    "# {'max_depth': 1} 1.0\n",
    "param_testing_trees = {'n_estimators':np.arange(300,500,50)}\n",
    "# {'n_estimators': 300} 1.0\n",
    "param_testing_learning = {'learning_rate':np.arange(0.01,0.1,0.05)} \n",
    "# {'learning_rate': 0.01} 1.0\n",
    "\n",
    "\n",
    "\n",
    "gr = GridSearchCV(GradientBoostingClassifier(random_state=42, max_depth = 1, n_estimators = 300)\n",
    "                  ,param_testing_learning,\n",
    "                  verbose = 1,\n",
    "                  scoring='accuracy',\n",
    "                  cv = skf)\n",
    "\n",
    "    \n",
    "gr.fit(X_train,y_train)\n",
    "print(gr.best_params_, gr.best_score_)\n",
    "best_estimator = gr.best_estimator_\n",
    "best_estimator"
   ]
  },
  {
   "cell_type": "markdown",
   "metadata": {},
   "source": [
    "**Run the Model**"
   ]
  },
  {
   "cell_type": "code",
   "execution_count": 467,
   "metadata": {
    "scrolled": true
   },
   "outputs": [
    {
     "name": "stdout",
     "output_type": "stream",
     "text": [
      "Fold: 1\n",
      "MAE Score: 2.8313718569558803\n",
      "Fold: 2\n",
      "MAE Score: 2.842874414740875\n",
      "Fold: 3\n",
      "MAE Score: 2.7743032901915186\n",
      "Fold: 4\n",
      "MAE Score: 2.7288351608144166\n",
      "Fold: 5\n",
      "MAE Score: 2.7199076584995856\n",
      "Fold: 6\n",
      "MAE Score: 2.7210516113219994\n",
      "Fold: 7\n",
      "MAE Score: 2.683792698309483\n",
      "Fold: 8\n",
      "MAE Score: 2.6810184212342554\n",
      "Fold: 9\n",
      "MAE Score: 2.682679550923021\n",
      "Fold: 10\n",
      "MAE Score: 2.612469200717326\n",
      "Fold: 1\n",
      "MAE Score: 2.7128662324523325\n",
      "Fold: 2\n",
      "MAE Score: 2.7142134022907456\n",
      "Fold: 3\n",
      "MAE Score: 2.722580377670923\n",
      "Fold: 4\n",
      "MAE Score: 2.728865501987982\n",
      "Fold: 5\n",
      "MAE Score: 2.7287404765852603\n",
      "Fold: 6\n",
      "MAE Score: 2.7294971513087956\n",
      "Fold: 7\n",
      "MAE Score: 2.732713003535615\n",
      "Fold: 8\n",
      "MAE Score: 2.7352160280349627\n",
      "Fold: 9\n",
      "MAE Score: 2.736877998783582\n",
      "Fold: 10\n",
      "MAE Score: 2.7430390399252165\n"
     ]
    }
   ],
   "source": [
    "gb = GradientBoostingClassifier(random_state=42,max_depth = 1,n_estimators = 350, learning_rate = 0.01)\n",
    "\n",
    "\n",
    "# Test Score\n",
    "final_score = []\n",
    "# Stratified KFold\n",
    "skf = StratifiedKFold(n_splits=10, random_state=42, shuffle=False)\n",
    "for fold, (train_index, test_index) in enumerate(skf.split(X, y)):\n",
    "    print(\"Fold:\" , fold +1)\n",
    "    X_train, X_test = X.iloc[train_index], X.iloc[test_index]\n",
    "    y_train, y_test = y.iloc[train_index], y.iloc[test_index]\n",
    "    gb.fit(X_train,y_train)\n",
    "    predictions = gb.predict_proba(X_test)[:,1]\n",
    "    final_score.append(mean_absolute_error(y_test, predictions))\n",
    "    print(\"MAE Score:\" ,mean_absolute_error(y_test, predictions))    \n",
    "    \n",
    "gradient_test = np.mean(final_score)\n",
    "\n",
    "# Train Score\n",
    "final_score_train = []\n",
    "# Stratified KFold\n",
    "skf = StratifiedKFold(n_splits=10, random_state=42, shuffle=False)\n",
    "for fold, (train_index, test_index) in enumerate(skf.split(X, y)):\n",
    "    print(\"Fold:\" , fold +1)\n",
    "    X_train, X_test = X.iloc[train_index], X.iloc[test_index]\n",
    "    y_train, y_test = y.iloc[train_index], y.iloc[test_index]\n",
    "    gb.fit(X_train,y_train)\n",
    "    predictions = gb.predict_proba(X_train)[:,1]\n",
    "    final_score_train.append(mean_absolute_error(y_train, predictions))\n",
    "    print(\"MAE Score:\" ,mean_absolute_error(y_train, predictions))\n",
    "    \n",
    "gradient_train = np.mean(final_score_train)"
   ]
  },
  {
   "cell_type": "markdown",
   "metadata": {},
   "source": [
    "**Plot test accuracy vs. train accuracy**"
   ]
  },
  {
   "cell_type": "code",
   "execution_count": 470,
   "metadata": {
    "scrolled": false
   },
   "outputs": [
    {
     "data": {
      "image/png": "[encoded data removed]",
      "text/plain": [
       "<Figure size 576x396 with 1 Axes>"
      ]
     },
     "metadata": {},
     "output_type": "display_data"
    }
   ],
   "source": [
    "fig, ax = plt.subplots()\n",
    "ax.plot(final_score_train, '-b', label='train')\n",
    "ax.plot(final_score, '--r', label='test')\n",
    "leg = ax.legend();"
   ]
  },
  {
   "cell_type": "markdown",
   "metadata": {},
   "source": [
    "Train error and test error are the same. Again there is overfitting over some folds of cross validation for example for fold 1 our test set seems to be overfitting but for fold 8 train set is overfitting. Test scores have high variance"
   ]
  },
  {
   "cell_type": "markdown",
   "metadata": {},
   "source": [
    "**Let's compare the results from all algorithms**"
   ]
  },
  {
   "cell_type": "code",
   "execution_count": 472,
   "metadata": {
    "scrolled": true
   },
   "outputs": [
    {
     "data": {
      "text/html": [
       "<div>\n",
       "<style scoped>\n",
       "    .dataframe tbody tr th:only-of-type {\n",
       "        vertical-align: middle;\n",
       "    }\n",
       "\n",
       "    .dataframe tbody tr th {\n",
       "        vertical-align: top;\n",
       "    }\n",
       "\n",
       "    .dataframe thead th {\n",
       "        text-align: right;\n",
       "    }\n",
       "</style>\n",
       "<table border=\"1\" class=\"dataframe\">\n",
       "  <thead>\n",
       "    <tr style=\"text-align: right;\">\n",
       "      <th></th>\n",
       "      <th>train</th>\n",
       "      <th>test</th>\n",
       "    </tr>\n",
       "  </thead>\n",
       "  <tbody>\n",
       "    <tr>\n",
       "      <th>Lasso</th>\n",
       "      <td>0.999869</td>\n",
       "      <td>1.016315</td>\n",
       "    </tr>\n",
       "    <tr>\n",
       "      <th>DecisionTree</th>\n",
       "      <td>2.726395</td>\n",
       "      <td>2.727476</td>\n",
       "    </tr>\n",
       "    <tr>\n",
       "      <th>RandomForest</th>\n",
       "      <td>2.724727</td>\n",
       "      <td>2.727078</td>\n",
       "    </tr>\n",
       "    <tr>\n",
       "      <th>GradientBoosting</th>\n",
       "      <td>2.728461</td>\n",
       "      <td>2.727830</td>\n",
       "    </tr>\n",
       "  </tbody>\n",
       "</table>\n",
       "</div>"
      ],
      "text/plain": [
       "                     train      test\n",
       "Lasso             0.999869  1.016315\n",
       "DecisionTree      2.726395  2.727476\n",
       "RandomForest      2.724727  2.727078\n",
       "GradientBoosting  2.728461  2.727830"
      ]
     },
     "execution_count": 472,
     "metadata": {},
     "output_type": "execute_result"
    }
   ],
   "source": [
    "# Add train and test scores for all Algorithms\n",
    "regression_algorithm_df = pd.DataFrame(data = {\"train\":[lasso_train,decision_train,random_train,gradient_train],\n",
    "                                                   \"test\":[lasso_test,decision_test,random_test,gradient_test]})\n",
    "regression_algorithm_df.index = [\"Lasso\",\"DecisionTree\",\"RandomForest\",\"GradientBoosting\"]\n",
    "regression_algorithm_df"
   ]
  },
  {
   "cell_type": "markdown",
   "metadata": {},
   "source": [
    "We see that Lasso Regression lowest error. Since we have a handful of data complex models werent expected to yield better results and they didn't. For classification and regression problems we have observed that a simple logistic regression model worked best. Models other than Lasso are very close in scores.There is still improvement for models especially with high variances of test sets even though the mean scores of test and train sets are very close. Options are to use a higher regularization, scale/normalize data,use a different metric... We have used accuracy for classification and mean absolute error for regression.Since our target is not imbalanced accuracy will work for us and give the ratio of true predictions to total predictions. We could have used RMSE for regression as a metric but it would not make a difference for our results. Since Lasso is the leading algorithm by far and the other are almost identical."
   ]
  }
 ],
 "metadata": {
  "kernelspec": {
   "display_name": "Python 3",
   "language": "python",
   "name": "python3"
  },
  "language_info": {
   "codemirror_mode": {
    "name": "ipython",
    "version": 3
   },
   "file_extension": ".py",
   "mimetype": "text/x-python",
   "name": "python",
   "nbconvert_exporter": "python",
   "pygments_lexer": "ipython3",
   "version": "3.7.4"
  }
 },
 "nbformat": 4,
 "nbformat_minor": 2
}
